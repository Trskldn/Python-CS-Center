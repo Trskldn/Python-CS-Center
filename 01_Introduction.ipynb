{
 "cells": [
  {
   "cell_type": "markdown",
   "source": [
    "# Lecture 1. Introduction\n",
    "* to write POC\n",
    "* most popular (3rd)\n",
    "* code for humans"
   ],
   "metadata": {
    "collapsed": false,
    "pycharm": {
     "name": "#%% md\n"
    }
   }
  },
  {
   "cell_type": "markdown",
   "source": [
    "## Python is:\n",
    "* interpretable, so it's easy to read it"
   ],
   "metadata": {
    "collapsed": false
   }
  },
  {
   "cell_type": "code",
   "execution_count": 1,
   "outputs": [
    {
     "data": {
      "text/plain": "['.\\\\01_Introduction.ipynb']"
     },
     "metadata": {},
     "output_type": "execute_result",
     "execution_count": 1
    }
   ],
   "source": [
    "import os\n",
    "def magic(top):\n",
    "    acc = []\n",
    "    for entry in os.scandir(top):\n",
    "        if entry.is_file() and entry.name.endswith(\".ipynb\"):\n",
    "            acc.append(entry.path)\n",
    "    return acc\n",
    "magic(\".\")"
   ],
   "metadata": {
    "collapsed": false,
    "pycharm": {
     "name": "#%%\n",
     "is_executing": false
    }
   }
  },
  {
   "cell_type": "markdown",
   "source": [
    "* Dynamic  "
   ],
   "metadata": {
    "collapsed": false
   }
  },
  {
   "cell_type": "code",
   "execution_count": 2,
   "outputs": [
    {
     "name": "stdout",
     "text": [
      "('a', 'b')\n",
      "<class 'int'>\n",
      "<class 'type'>\n",
      "<class 'type'>\n"
     ],
     "output_type": "stream"
    }
   ],
   "source": [
    "## Dynamic typing. define type at function call.\n",
    "def add(a, b):\n",
    "    return a + b\n",
    "\n",
    "def f():\n",
    "    return add(1, \"92\", [])   #  no errors\n",
    "#f()  # error will be here\n",
    "\n",
    "## everything is an object everything is a statement.\n",
    "\n",
    "f.__code__ = add.__code__\n",
    "code = f.__code__\n",
    "t = code.co_varnames\n",
    "print(t)\n",
    "print(type(92))\n",
    "print(type(type(92)))\n",
    "print(type(type(type(92))))"
   ],
   "metadata": {
    "collapsed": false,
    "pycharm": {
     "name": "#%%\n",
     "is_executing": false
    }
   }
  },
  {
   "cell_type": "markdown",
   "source": [
    "* Object-oriented (if you want to)\n",
    "* Functional (most likely no)"
   ],
   "metadata": {
    "collapsed": false
   }
  },
  {
   "cell_type": "markdown",
   "source": [
    "# Built in data types\n",
    "### None"
   ],
   "metadata": {
    "collapsed": false
   }
  },
  {
   "cell_type": "code",
   "execution_count": 3,
   "outputs": [
    {
     "name": "stdout",
     "text": [
      "1\n"
     ],
     "output_type": "stream"
    }
   ],
   "source": [
    "res = print(1) #print returns nothing"
   ],
   "metadata": {
    "collapsed": false,
    "pycharm": {
     "name": "#%%\n",
     "is_executing": false
    }
   }
  },
  {
   "cell_type": "code",
   "execution_count": 4,
   "outputs": [
    {
     "name": "stdout",
     "text": [
      "True\n",
      "None\n",
      "140730550803680\n",
      "140730550803680\n"
     ],
     "output_type": "stream"
    }
   ],
   "source": [
    "print(res is None)\n",
    "print(res)\n",
    "print(id(res))  #адресс в CPython\n",
    "print(id(None))"
   ],
   "metadata": {
    "collapsed": false,
    "pycharm": {
     "name": "#%%\n",
     "is_executing": false
    }
   }
  },
  {
   "cell_type": "markdown",
   "source": [
    "### bool"
   ],
   "metadata": {
    "collapsed": false
   }
  },
  {
   "cell_type": "code",
   "execution_count": 5,
   "outputs": [
    {
     "name": "stdout",
     "text": [
      "True\n"
     ],
     "output_type": "stream"
    }
   ],
   "source": [
    "to_be = False\n",
    "print(to_be or not to_be)"
   ],
   "metadata": {
    "collapsed": false,
    "pycharm": {
     "name": "#%%\n",
     "is_executing": false
    }
   }
  },
  {
   "cell_type": "code",
   "execution_count": 6,
   "outputs": [
    {
     "name": "stdout",
     "text": [
      "False\n",
      "False\n",
      "False\n"
     ],
     "output_type": "stream"
    }
   ],
   "source": [
    "x = 1\n",
    "y = 2 \n",
    "print(x**2 + y**2 < 5 == True) # True is a singleton\n",
    "print(x**2 + y**2 < 5 is True) \n",
    "print(x**2 + y**2 < 5) # we can do it this way actually"
   ],
   "metadata": {
    "collapsed": false,
    "pycharm": {
     "name": "#%%\n",
     "is_executing": false
    }
   }
  },
  {
   "cell_type": "code",
   "execution_count": 7,
   "outputs": [
    {
     "data": {
      "text/plain": "False"
     },
     "metadata": {},
     "output_type": "execute_result",
     "execution_count": 7
    }
   ],
   "source": [
    "False and print('also') # short-circuiting! \n",
    "# If false already is in \"and\" so python is lazy and won't \n",
    "# calculate the rest part"
   ],
   "metadata": {
    "collapsed": false,
    "pycharm": {
     "name": "#%%\n",
     "is_executing": false
    }
   }
  },
  {
   "cell_type": "code",
   "execution_count": 8,
   "outputs": [
    {
     "name": "stdout",
     "text": [
      "also\n",
      "92\n"
     ],
     "output_type": "stream"
    }
   ],
   "source": [
    "res = True and print('also')\n",
    "assert res is None, \"print should return None\"\n",
    "print (False or 92)"
   ],
   "metadata": {
    "collapsed": false,
    "pycharm": {
     "name": "#%%\n",
     "is_executing": false
    }
   }
  },
  {
   "cell_type": "markdown",
   "source": [
    "#### assert"
   ],
   "metadata": {
    "collapsed": false
   }
  },
  {
   "cell_type": "code",
   "execution_count": 10,
   "outputs": [
    {
     "traceback": [
      "\u001b[1;31m---------------------------------------------------------------------------\u001b[0m",
      "\u001b[1;31mAssertionError\u001b[0m                            Traceback (most recent call last)",
      "\u001b[1;32m<ipython-input-10-4d9c8491c5a8>\u001b[0m in \u001b[0;36m<module>\u001b[1;34m\u001b[0m\n\u001b[0;32m      1\u001b[0m \u001b[0mx\u001b[0m \u001b[1;33m=\u001b[0m \u001b[1;36m100\u001b[0m\u001b[1;33m\u001b[0m\u001b[1;33m\u001b[0m\u001b[0m\n\u001b[0;32m      2\u001b[0m \u001b[0my\u001b[0m \u001b[1;33m=\u001b[0m \u001b[1;36m3\u001b[0m\u001b[1;33m\u001b[0m\u001b[1;33m\u001b[0m\u001b[0m\n\u001b[1;32m----> 3\u001b[1;33m \u001b[1;32massert\u001b[0m \u001b[0mx\u001b[0m \u001b[1;33m%\u001b[0m \u001b[0my\u001b[0m \u001b[1;33m==\u001b[0m \u001b[1;36m0\u001b[0m\u001b[1;33m,\u001b[0m \u001b[1;33m(\u001b[0m\u001b[0mx\u001b[0m\u001b[1;33m,\u001b[0m\u001b[0my\u001b[0m\u001b[1;33m)\u001b[0m  \u001b[1;31m# use asserts it's useful\u001b[0m\u001b[1;33m\u001b[0m\u001b[1;33m\u001b[0m\u001b[0m\n\u001b[0m\u001b[0;32m      4\u001b[0m \u001b[1;33m\u001b[0m\u001b[0m\n",
      "\u001b[1;31mAssertionError\u001b[0m: (100, 3)"
     ],
     "ename": "AssertionError",
     "evalue": "(100, 3)",
     "output_type": "error"
    }
   ],
   "source": [
    "x = 100\n",
    "y = 3\n",
    "assert x % y == 0, (x,y)  # use asserts it's useful"
   ],
   "metadata": {
    "collapsed": false,
    "pycharm": {
     "name": "#%%\n",
     "is_executing": false
    }
   }
  },
  {
   "cell_type": "markdown",
   "source": [
    "### Number"
   ],
   "metadata": {
    "collapsed": false,
    "pycharm": {
     "name": "#%% md\n"
    }
   }
  },
  {
   "cell_type": "code",
   "execution_count": 11,
   "outputs": [
    {
     "data": {
      "text/plain": "2"
     },
     "metadata": {},
     "output_type": "execute_result",
     "execution_count": 11
    }
   ],
   "source": [
    "True + False + True # bool are numbers"
   ],
   "metadata": {
    "collapsed": false,
    "pycharm": {
     "name": "#%%\n",
     "is_executing": false
    }
   }
  },
  {
   "cell_type": "code",
   "execution_count": 12,
   "outputs": [
    {
     "name": "stdout",
     "text": [
      "0\n",
      "20815864389328798163850480654728171077230524494533409610638224700807216119346720596024478883464648369684843227908562015582767132496646929816279813211354641525848259018778440691546366699323167100945918841095379622423387354295096957733925002768876520583464697770622321657076833170056511209332449663781837603694136444406281042053396870977465916057756101739472373801429441421111406337458176\n",
      "1.0\n",
      "inf\n",
      "92\n",
      "(90+2j)\n"
     ],
     "output_type": "stream"
    }
   ],
   "source": [
    "print(0)\n",
    "print(2**1280) # can be really big\n",
    "print(1.0) # double\n",
    "print(float('inf'))\n",
    "print(int('92'))\n",
    "print(90 + 2j) # complex\n"
   ],
   "metadata": {
    "collapsed": false,
    "pycharm": {
     "name": "#%%\n",
     "is_executing": false
    }
   }
  },
  {
   "cell_type": "code",
   "execution_count": 13,
   "outputs": [
    {
     "name": "stdout",
     "text": [
      "1.5\n",
      "2.0\n",
      "1\n",
      "-2\n",
      "-3\n",
      "2\n"
     ],
     "output_type": "stream"
    }
   ],
   "source": [
    "print(3 / 2)\n",
    "print(4 /2)\n",
    "print(3 // 2) # integer\n",
    "print(-3 // 2) # as it is in algebra\n",
    "print(-5 // 2)\n",
    "print(-1 % 3) # С/Java/Rust wil return -1\n",
    "\n"
   ],
   "metadata": {
    "collapsed": false,
    "pycharm": {
     "name": "#%%\n",
     "is_executing": false
    }
   }
  },
  {
   "cell_type": "code",
   "execution_count": 14,
   "outputs": [
    {
     "name": "stdout",
     "text": [
      "True\n",
      "True\n"
     ],
     "output_type": "stream"
    }
   ],
   "source": [
    "x = 10\n",
    "print(0 <= x and x <100)\n",
    "print(0 <= x < 100)\n",
    "\n",
    "\n"
   ],
   "metadata": {
    "collapsed": false,
    "pycharm": {
     "name": "#%%\n",
     "is_executing": false
    }
   }
  },
  {
   "cell_type": "markdown",
   "source": [
    "### list"
   ],
   "metadata": {
    "collapsed": false,
    "pycharm": {
     "name": "#%% md\n"
    }
   }
  },
  {
   "cell_type": "code",
   "execution_count": 15,
   "outputs": [
    {
     "name": "stdout",
     "text": [
      "[]\n",
      "[1, 2, 3]\n",
      "3\n",
      "1\n",
      "[0, 2, 3]\n"
     ],
     "output_type": "stream"
    }
   ],
   "source": [
    "print([])\n",
    "xs = [1, 2, 3,]\n",
    "print(xs)\n",
    "print(len(xs))\n",
    "print(xs[0])\n",
    "xs[0] = 0\n",
    "print(xs)\n"
   ],
   "metadata": {
    "collapsed": false,
    "pycharm": {
     "name": "#%%\n",
     "is_executing": false
    }
   }
  },
  {
   "cell_type": "code",
   "execution_count": 16,
   "outputs": [
    {
     "data": {
      "text/plain": "[1, 2, 1, 2, 1, 2]"
     },
     "metadata": {},
     "output_type": "execute_result",
     "execution_count": 16
    }
   ],
   "source": [
    "xs = [1, 2] * 3\n",
    "xs"
   ],
   "metadata": {
    "collapsed": false,
    "pycharm": {
     "name": "#%%\n",
     "is_executing": false
    }
   }
  },
  {
   "cell_type": "code",
   "execution_count": 17,
   "outputs": [
    {
     "data": {
      "text/plain": "[[0, 0, 0], [0, 0, 0], [0, 0, 0]]"
     },
     "metadata": {},
     "output_type": "execute_result",
     "execution_count": 17
    }
   ],
   "source": [
    "xs = [[0] * 3] * 3  # don't do this\n",
    "xs"
   ],
   "metadata": {
    "collapsed": false,
    "pycharm": {
     "name": "#%%\n",
     "is_executing": false
    }
   }
  },
  {
   "cell_type": "code",
   "execution_count": 18,
   "outputs": [
    {
     "data": {
      "text/plain": "[[1, 0, 0], [1, 0, 0], [1, 0, 0]]"
     },
     "metadata": {},
     "output_type": "execute_result",
     "execution_count": 18
    }
   ],
   "source": [
    "xs[0][0] = 1\n",
    "xs\n",
    "\n"
   ],
   "metadata": {
    "collapsed": false,
    "pycharm": {
     "name": "#%%\n",
     "is_executing": false
    }
   }
  },
  {
   "cell_type": "code",
   "execution_count": 19,
   "outputs": [
    {
     "data": {
      "text/plain": "[1, 2, 3, 4]"
     },
     "metadata": {},
     "output_type": "execute_result",
     "execution_count": 19
    }
   ],
   "source": [
    "[1] + [2, 3] + [4] # O(n1+ n2 + n3)"
   ],
   "metadata": {
    "collapsed": false,
    "pycharm": {
     "name": "#%%\n",
     "is_executing": false
    }
   }
  },
  {
   "cell_type": "code",
   "execution_count": 20,
   "outputs": [
    {
     "data": {
      "text/plain": "[1, 2, 3, 4]"
     },
     "metadata": {},
     "output_type": "execute_result",
     "execution_count": 20
    }
   ],
   "source": [
    "xs = [1, 2, 3]\n",
    "xs.append(4) # O(1)\n",
    "xs"
   ],
   "metadata": {
    "collapsed": false,
    "pycharm": {
     "name": "#%%\n",
     "is_executing": false
    }
   }
  },
  {
   "cell_type": "code",
   "execution_count": 21,
   "outputs": [
    {
     "data": {
      "text/plain": "[92, 2, 3]"
     },
     "metadata": {},
     "output_type": "execute_result",
     "execution_count": 21
    }
   ],
   "source": [
    "xs.pop() # O(1)\n",
    "xs.pop(0) # O(n)\n",
    "xs.insert(0, 92) # O(n)\n",
    "xs"
   ],
   "metadata": {
    "collapsed": false,
    "pycharm": {
     "name": "#%%\n",
     "is_executing": false
    }
   }
  },
  {
   "cell_type": "code",
   "execution_count": 22,
   "outputs": [
    {
     "data": {
      "text/plain": "[92, 2, 3, 1]"
     },
     "metadata": {},
     "output_type": "execute_result",
     "execution_count": 22
    }
   ],
   "source": [
    "xs += [1]\n",
    "xs"
   ],
   "metadata": {
    "collapsed": false,
    "pycharm": {
     "name": "#%%\n",
     "is_executing": false
    }
   }
  },
  {
   "cell_type": "markdown",
   "source": [
    "#### slices"
   ],
   "metadata": {
    "collapsed": false,
    "pycharm": {
     "name": "#%% md\n"
    }
   }
  },
  {
   "cell_type": "code",
   "execution_count": 23,
   "outputs": [
    {
     "name": "stdout",
     "text": [
      "[0, 1, 2, 3, 4]\n",
      "4\n",
      "4\n",
      "[2, 3]\n",
      "[0, 1, 2]\n",
      "[0, 2, 4]\n"
     ],
     "output_type": "stream"
    },
    {
     "data": {
      "text/plain": "[0, 1, 2, 3, 4]"
     },
     "metadata": {},
     "output_type": "execute_result",
     "execution_count": 23
    }
   ],
   "source": [
    "xs = list(range(5))\n",
    "print(xs)\n",
    "print(xs[len(xs) -1])\n",
    "print(xs[-1])\n",
    "print(xs[2:4])\n",
    "print(xs[:-2])\n",
    "print(xs[::2])\n",
    "xs[:]"
   ],
   "metadata": {
    "collapsed": false,
    "pycharm": {
     "name": "#%%\n",
     "is_executing": false
    }
   }
  },
  {
   "cell_type": "code",
   "execution_count": 24,
   "outputs": [
    {
     "name": "stdout",
     "text": [
      "[92, 1, 2, 3, 4]\n",
      "[0, 1, 2, 3, 4]\n"
     ],
     "output_type": "stream"
    }
   ],
   "source": [
    "y = xs[:] # just a copy of list\n",
    "y[0] = 92\n",
    "print(y)\n",
    "print(xs)\n",
    " "
   ],
   "metadata": {
    "collapsed": false,
    "pycharm": {
     "name": "#%%\n",
     "is_executing": false
    }
   }
  },
  {
   "cell_type": "code",
   "execution_count": 25,
   "outputs": [
    {
     "name": "stdout",
     "text": [
      "[0, None, 2, None, 4]\n",
      "slice(None, None, 2)\n",
      "[0, 2, 4, 6, 8]\n"
     ],
     "output_type": "stream"
    }
   ],
   "source": [
    "xs [1:-1:2] = [None] * 2\n",
    "print(xs)\n",
    "\n",
    "every_second = slice(None, None, 2) # slice (Start, Stop, Step)\n",
    "print(every_second)\n",
    "print(list(range(10))[every_second])"
   ],
   "metadata": {
    "collapsed": false,
    "pycharm": {
     "name": "#%%\n",
     "is_executing": false
    }
   }
  },
  {
   "cell_type": "markdown",
   "source": [
    "### str"
   ],
   "metadata": {
    "collapsed": false,
    "pycharm": {
     "name": "#%% md\n"
    }
   }
  },
  {
   "cell_type": "code",
   "execution_count": 26,
   "outputs": [
    {
     "name": "stdout",
     "text": [
      "hell\n",
      "h\n"
     ],
     "output_type": "stream"
    }
   ],
   "source": [
    "s = \"hello\"\n",
    "\n",
    "print(s[:-1])\n",
    "print(s[0])\n",
    "# s[1] = \"i\" #error"
   ],
   "metadata": {
    "collapsed": false,
    "pycharm": {
     "name": "#%%\n",
     "is_executing": false
    }
   }
  },
  {
   "cell_type": "code",
   "execution_count": 27,
   "outputs": [
    {
     "name": "stdout",
     "text": [
      "['hello ', 'world']\n",
      "['a', 'b', 'c']\n",
      "hello\n",
      "a,b,c\n",
      "42\n",
      "2 * x = 184\n"
     ],
     "output_type": "stream"
    }
   ],
   "source": [
    "print(\"hello \\nworld\".splitlines())\n",
    "print(\"a b c\".split())\n",
    "print(\"\\thello\".strip())\n",
    "print(\",\".join([\"a\", \"b\", \"c\"])) # join list\n",
    "print(str(42))\n",
    "x = 92\n",
    "print(f\"2 * x = {2 * x}\") # interpolation"
   ],
   "metadata": {
    "collapsed": false,
    "pycharm": {
     "name": "#%%\n",
     "is_executing": false
    }
   }
  },
  {
   "cell_type": "markdown",
   "source": [
    "# tuple"
   ],
   "metadata": {
    "collapsed": false,
    "pycharm": {
     "name": "#%% md\n"
    }
   }
  },
  {
   "cell_type": "code",
   "execution_count": 28,
   "outputs": [
    {
     "name": "stdout",
     "text": [
      "2\n",
      "([1, 2, 3], [])\n"
     ],
     "output_type": "stream"
    }
   ],
   "source": [
    "date = (\"September\", 2018)\n",
    "print(len(date))\n",
    "# date[1] = 2019 # error, can't modify\n",
    "\n",
    "xs = ([], [])\n",
    "xs[0].extend([1, 2, 3])\n",
    "print(xs)"
   ],
   "metadata": {
    "collapsed": false,
    "pycharm": {
     "name": "#%%\n",
     "is_executing": false
    }
   }
  },
  {
   "cell_type": "code",
   "execution_count": 29,
   "outputs": [],
   "source": [
    "def div_mod(x, y):\n",
    "    return x // y, x % y\n",
    "\n",
    "d,m =div_mod(10, 3)\n",
    "assert (d,m) == (3, 1)\n",
    "\n"
   ],
   "metadata": {
    "collapsed": false,
    "pycharm": {
     "name": "#%%\n",
     "is_executing": false
    }
   }
  },
  {
   "cell_type": "markdown",
   "source": [
    "### set"
   ],
   "metadata": {
    "collapsed": false,
    "pycharm": {
     "name": "#%% md\n"
    }
   }
  },
  {
   "cell_type": "code",
   "execution_count": 30,
   "outputs": [
    {
     "name": "stdout",
     "text": [
      "True\n",
      "True\n",
      "set()\n",
      "{1, 2, 3, 4, 5}\n",
      "{3}\n",
      "{1, 2, 4, 5}\n"
     ],
     "output_type": "stream"
    },
    {
     "traceback": [
      "\u001b[1;31m---------------------------------------------------------------------------\u001b[0m",
      "\u001b[1;31mKeyError\u001b[0m                                  Traceback (most recent call last)",
      "\u001b[1;32m<ipython-input-30-0918330b0b75>\u001b[0m in \u001b[0;36m<module>\u001b[1;34m\u001b[0m\n\u001b[0;32m     14\u001b[0m \u001b[0mxs\u001b[0m \u001b[1;33m=\u001b[0m \u001b[1;33m{\u001b[0m\u001b[1;36m1\u001b[0m\u001b[1;33m,\u001b[0m \u001b[1;36m2\u001b[0m\u001b[1;33m,\u001b[0m \u001b[1;36m3\u001b[0m\u001b[1;33m}\u001b[0m\u001b[1;33m\u001b[0m\u001b[1;33m\u001b[0m\u001b[0m\n\u001b[0;32m     15\u001b[0m \u001b[0mxs\u001b[0m\u001b[1;33m.\u001b[0m\u001b[0mdiscard\u001b[0m\u001b[1;33m(\u001b[0m\u001b[1;36m2\u001b[0m\u001b[1;33m)\u001b[0m \u001b[1;31m# rare operation\u001b[0m\u001b[1;33m\u001b[0m\u001b[1;33m\u001b[0m\u001b[0m\n\u001b[1;32m---> 16\u001b[1;33m \u001b[0mxs\u001b[0m\u001b[1;33m.\u001b[0m\u001b[0mremove\u001b[0m\u001b[1;33m(\u001b[0m\u001b[1;36m2\u001b[0m\u001b[1;33m)\u001b[0m \u001b[1;31m# will raise an error\u001b[0m\u001b[1;33m\u001b[0m\u001b[1;33m\u001b[0m\u001b[0m\n\u001b[0m\u001b[0;32m     17\u001b[0m \u001b[1;33m\u001b[0m\u001b[0m\n",
      "\u001b[1;31mKeyError\u001b[0m: 2"
     ],
     "ename": "KeyError",
     "evalue": "2",
     "output_type": "error"
    }
   ],
   "source": [
    "xs = {1, 2, 3}  # hashtable\n",
    "print(1 in xs)\n",
    "print(32 not in xs) # O(1)\n",
    "\n",
    "xs.add(1)\n",
    "xs.add(92)\n",
    "\n",
    "print(set())\n",
    "\n",
    "print({1, 2, 3}.union({3, 4, 5}))\n",
    "print({1, 2, 3} & {3, 4, 5}) # .intersection\n",
    "print({1, 2, 3} ^ {3, 4, 5}) # .symmetric_difference\n",
    "\n",
    "xs = {1, 2, 3}\n",
    "xs.discard(2) # rare operation\n",
    "xs.remove(2) # will raise an error"
   ],
   "metadata": {
    "collapsed": false,
    "pycharm": {
     "name": "#%%\n",
     "is_executing": false
    }
   }
  },
  {
   "cell_type": "code",
   "execution_count": 31,
   "outputs": [],
   "source": [
    "xs = set()\n",
    "# xs.add([]) # elements should be immutable and hashable\n",
    "\n"
   ],
   "metadata": {
    "collapsed": false,
    "pycharm": {
     "name": "#%%\n",
     "is_executing": false
    }
   }
  },
  {
   "cell_type": "markdown",
   "source": [
    "### dict"
   ],
   "metadata": {
    "collapsed": false,
    "pycharm": {
     "name": "#%% md\n"
    }
   }
  },
  {
   "cell_type": "code",
   "execution_count": 32,
   "outputs": [
    {
     "name": "stdout",
     "text": [
      "2018\n",
      "14\n",
      "2018\n"
     ],
     "output_type": "stream"
    }
   ],
   "source": [
    "date = {\"year\": 2018, \"month\":\"September\"}\n",
    "len(date)\n",
    "\n",
    "print(date[\"year\"]) # KeyError if key doesn't exist\n",
    "print(date.get(\"day\", 14))\n",
    "date[\"day\"] = 14\n",
    "print(date.pop(\"year\"))"
   ],
   "metadata": {
    "collapsed": false,
    "pycharm": {
     "name": "#%%\n",
     "is_executing": false
    }
   }
  },
  {
   "cell_type": "code",
   "execution_count": 33,
   "outputs": [
    {
     "name": "stdout",
     "text": [
      "dict_keys(['month', 'day'])\n",
      "dict_values(['September', 14])\n",
      "dict_items([('month', 'September'), ('day', 14)])\n"
     ],
     "output_type": "stream"
    }
   ],
   "source": [
    "print(date.keys())\n",
    "print(date.values())\n",
    "print(date.items())\n"
   ],
   "metadata": {
    "collapsed": false,
    "pycharm": {
     "name": "#%%\n",
     "is_executing": false
    }
   }
  },
  {
   "cell_type": "code",
   "execution_count": 34,
   "outputs": [
    {
     "name": "stdout",
     "text": [
      "True\n"
     ],
     "output_type": "stream"
    }
   ],
   "source": [
    "print('day' in date)"
   ],
   "metadata": {
    "collapsed": false,
    "pycharm": {
     "name": "#%%\n",
     "is_executing": false
    }
   }
  },
  {
   "cell_type": "markdown",
   "source": [
    "### Statements\n",
    "#### If"
   ],
   "metadata": {
    "collapsed": false,
    "pycharm": {
     "name": "#%% md\n",
     "is_executing": false
    }
   }
  },
  {
   "cell_type": "code",
   "execution_count": 36,
   "outputs": [],
   "source": [
    "n = 1\n",
    "\n",
    "if 0 <= n < len(xs): # ternary if\n",
    "    print(xs[n])"
   ],
   "metadata": {
    "collapsed": false,
    "pycharm": {
     "name": "#%%\n",
     "is_executing": false
    }
   }
  },
  {
   "cell_type": "markdown",
   "source": [
    "#### while"
   ],
   "metadata": {
    "collapsed": false,
    "pycharm": {
     "name": "#%% md\n"
    }
   }
  },
  {
   "cell_type": "code",
   "execution_count": null,
   "outputs": [],
   "source": [],
   "metadata": {
    "collapsed": false,
    "pycharm": {
     "name": "#%%\n"
    }
   }
  },
  {
   "cell_type": "markdown",
   "source": [
    "#### Truthy/Falsy"
   ],
   "metadata": {
    "collapsed": false
   }
  },
  {
   "cell_type": "code",
   "execution_count": 38,
   "outputs": [
    {
     "name": "stdout",
     "text": [
      "True\n",
      "False\n",
      "True\n",
      "False\n",
      "True\n"
     ],
     "output_type": "stream"
    },
    {
     "data": {
      "text/plain": "(False, None, 0, 0.0, 0j, [], (), set(), {})"
     },
     "metadata": {},
     "output_type": "execute_result",
     "execution_count": 38
    }
   ],
   "source": [
    "print(bool(True))\n",
    "print(bool(0))\n",
    "print(bool(1))\n",
    "print(bool([]))\n",
    "print(bool([0]))\n",
    " \n",
    "(False, None, 0, 0.0, 0j, [], (), set(), {}) #Falthy!"
   ],
   "metadata": {
    "collapsed": false,
    "pycharm": {
     "name": "#%%\n",
     "is_executing": false
    }
   }
  },
  {
   "cell_type": "code",
   "execution_count": 39,
   "outputs": [],
   "source": [
    "if len(xs) == 0: # bad!\n",
    "    pass\n",
    "if xs:\n",
    "    pass\n",
    "if not xs:\n",
    "    pass\n",
    "\n",
    " "
   ],
   "metadata": {
    "collapsed": false,
    "pycharm": {
     "name": "#%%\n",
     "is_executing": false
    }
   }
  },
  {
   "cell_type": "markdown",
   "source": [
    "#### For"
   ],
   "metadata": {
    "collapsed": false
   }
  },
  {
   "cell_type": "code",
   "execution_count": 1,
   "outputs": [
    {
     "name": "stdout",
     "text": [
      "1\n",
      "2\n",
      "3\n",
      "# Python-CS-Center\n",
      "\n",
      "online youtube python course of CS center\n",
      "\n",
      "f\n",
      "o\n",
      "o\n",
      "b\n",
      "a\n",
      "r\n",
      "3\n",
      "3\n",
      "3\n"
     ],
     "output_type": "stream"
    }
   ],
   "source": [
    "for x in [1, 2, 3]:\n",
    "    print(x)\n",
    "for line in open(\"README.md\"):\n",
    "    print(line)\n",
    "\n",
    "for ch in \"foobar\":\n",
    "    print(ch)\n",
    "\n",
    "for i in range(10):\n",
    "    pass\n",
    "\n",
    "for i in range(2, 10 ,3):\n",
    "    pass\n",
    "    \n",
    "for i in range(9, -1, -1):\n",
    "    pass\n",
    "\n",
    "for i in reversed(range(10)):\n",
    "    pass\n",
    "\n",
    "for i in reversed(\"helo\"):\n",
    "    pass\n",
    "\n",
    "for i in reversed([1, 2, 3]):\n",
    "    print(x)"
   ],
   "metadata": {
    "collapsed": false,
    "pycharm": {
     "name": "#%%\n",
     "is_executing": false
    }
   }
  },
  {
   "cell_type": "code",
   "execution_count": 9,
   "outputs": [
    {
     "name": "stdout",
     "text": [
      "operation: ('LOAD_CONST', ['30'])\n",
      "env : {}\n",
      "stack: [30]\n",
      "\n",
      "operation: ('STORE_NAME', ['x'])\n",
      "env : {'x': 30}\n",
      "stack: []\n",
      "\n",
      "operation: ('LOAD_CONST', ['62'])\n",
      "env : {'x': 30}\n",
      "stack: [62]\n",
      "\n",
      "operation: ('STORE_NAME', ['y'])\n",
      "env : {'x': 30, 'y': 62}\n",
      "stack: []\n",
      "\n",
      "operation: ('LOAD_NAME', ['x'])\n",
      "env : {'x': 30, 'y': 62}\n",
      "stack: [30]\n",
      "\n",
      "operation: ('LOAD_NAME', ['y'])\n",
      "env : {'x': 30, 'y': 62}\n",
      "stack: [30, 62]\n",
      "\n",
      "operation: ('BINARY_ADD', [])\n",
      "env : {'x': 30, 'y': 62}\n",
      "stack: [92]\n",
      "\n",
      "operation: ('STORE_NAME', ['z'])\n",
      "env : {'x': 30, 'y': 62, 'z': 92}\n",
      "stack: []\n",
      "\n"
     ],
     "output_type": "stream"
    }
   ],
   "source": [
    "def eval(code):\n",
    "    env = dict()\n",
    "    stack = list()\n",
    "    for line in code.strip().splitlines():\n",
    "        op, *args = line.split()\n",
    "        if op == \"LOAD_CONST\":\n",
    "            stack.append(int(args[0]))\n",
    "        elif op == \"STORE_NAME\":\n",
    "            env[args[0]] = stack.pop()\n",
    "        elif op == \"LOAD_NAME\":\n",
    "            stack.append(env[args[0]])\n",
    "        elif op == \"BINARY_ADD\":\n",
    "            stack.append(stack.pop() + stack.pop())\n",
    "        else:\n",
    "            assert False, f\"unknown op: {op[0]}\"\n",
    "        print(f\"operation: {op, args}\\nenv : {env}\\nstack: {stack}\\n\")\n",
    "\n",
    "eval(\"\"\"\n",
    "LOAD_CONST  30\n",
    "STORE_NAME  x\n",
    "LOAD_CONST  62\n",
    "STORE_NAME  y\n",
    "LOAD_NAME   x\n",
    "LOAD_NAME   y\n",
    "BINARY_ADD  \n",
    "STORE_NAME  z\n",
    "\"\"\")"
   ],
   "metadata": {
    "collapsed": false,
    "pycharm": {
     "name": "#%%\n",
     "is_executing": false
    }
   }
  },
  {
   "cell_type": "markdown",
   "source": [
    "#### break"
   ],
   "metadata": {
    "collapsed": false,
    "pycharm": {
     "name": "#%% md\n"
    }
   }
  },
  {
   "cell_type": "code",
   "execution_count": 10,
   "outputs": [
    {
     "name": "stdout",
     "text": [
      "Found! 92\n"
     ],
     "output_type": "stream"
    }
   ],
   "source": [
    "target = 92\n",
    "items = [1, 2, 3, 4, 92]\n",
    "for item in items:\n",
    "    if item == target:\n",
    "        print(\"Found!\", item)\n",
    "        break\n",
    "else:\n",
    "    print(\"Not found\")\n",
    "\n"
   ],
   "metadata": {
    "collapsed": false,
    "pycharm": {
     "name": "#%% \n",
     "is_executing": false
    }
   }
  }
 ],
 "metadata": {
  "kernelspec": {
   "name": "pycharm-30c1b50c",
   "language": "python",
   "display_name": "PyCharm (Python_cs_center)"
  },
  "language_info": {
   "codemirror_mode": {
    "name": "ipython",
    "version": 3
   },
   "file_extension": ".py",
   "mimetype": "text/x-python",
   "name": "python",
   "nbconvert_exporter": "python",
   "pygments_lexer": "ipython3",
   "version": "3.7.6"
  },
  "pycharm": {
   "stem_cell": {
    "cell_type": "raw",
    "source": [],
    "metadata": {
     "collapsed": false
    }
   }
  }
 },
 "nbformat": 4,
 "nbformat_minor": 1
}