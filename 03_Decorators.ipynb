{
 "cells": [
  {
   "cell_type": "markdown",
   "metadata": {
    "collapsed": true,
    "pycharm": {
     "is_executing": false,
     "name": "#%% md\n"
    }
   },
   "source": [
    "we want to debug some info about function\n"
   ]
  },
  {
   "cell_type": "code",
   "execution_count": 9,
   "outputs": [
    {
     "name": "stdout",
     "text": [
      "max(-10, -1, -3) = ...\n",
      "max(-10, -1, -3) = 0\n"
     ],
     "output_type": "stream"
    }
   ],
   "source": [
    "def trace(f):\n",
    "    def inner(*args, **kwargs):\n",
    "        call = \", \".join(\n",
    "            [str(a) for a in args] + [f\"{k}={v}\" for k, v in kwargs]\n",
    "        )\n",
    "        print(f\"{f.__name__}({call}) = ...\")\n",
    "        ret = f(*args, **kwargs)\n",
    "        print(f\"{f.__name__}({call}) = {ret}\")\n",
    "        return  ret\n",
    "    return inner\n",
    "\n",
    "\n",
    "def max(*args):\n",
    "    \"\"\"Finds the largest argument.\"\"\"\n",
    "    ret = 0\n",
    "    for x in args:\n",
    "        ret = ret if x < ret else x\n",
    "    return ret\n",
    "\n",
    "max = trace(max)\n",
    "\n",
    "def foo():\n",
    "    max(-10, -1, -3)\n",
    "foo()\n"
   ],
   "metadata": {
    "collapsed": false,
    "pycharm": {
     "name": "#%%\n",
     "is_executing": false
    }
   }
  },
  {
   "cell_type": "markdown",
   "source": [
    "Same using python syntax"
   ],
   "metadata": {
    "collapsed": false,
    "pycharm": {
     "name": "#%% md\n"
    }
   }
  },
  {
   "cell_type": "code",
   "execution_count": 10,
   "outputs": [
    {
     "name": "stdout",
     "text": [
      "max(-10, -1, -3) = ...\n",
      "max(-10, -1, -3) = 0\n"
     ],
     "output_type": "stream"
    }
   ],
   "source": [
    "DEBUG = True\n",
    "\n",
    "def trace(f):\n",
    "    \n",
    "    if not DEBUG:\n",
    "        return f\n",
    "    \n",
    "    def inner(*args, **kwargs):\n",
    "        call = \", \".join(\n",
    "            [str(a) for a in args] + [f\"{k}={v}\" for k, v in kwargs]\n",
    "        )\n",
    "        print(f\"{f.__name__}({call}) = ...\")\n",
    "        ret = f(*args, **kwargs)\n",
    "        print(f\"{f.__name__}({call}) = {ret}\")\n",
    "        return  ret\n",
    "    return inner\n",
    "\n",
    "@trace\n",
    "def max(*args):\n",
    "    \"\"\"Finds the largest argument.\"\"\"\n",
    "    ret = 0\n",
    "    for x in args:\n",
    "        ret = ret if x < ret else x\n",
    "    return ret\n",
    "\n",
    "def foo():\n",
    "    max(-10, -1, -3)\n",
    "foo()"
   ],
   "metadata": {
    "collapsed": false,
    "pycharm": {
     "name": "#%%\n",
     "is_executing": false
    }
   }
  },
  {
   "cell_type": "markdown",
   "source": [
    "But there is a problem with all function attributes"
   ],
   "metadata": {
    "collapsed": false,
    "pycharm": {
     "name": "#%% md\n",
     "is_executing": false
    }
   }
  },
  {
   "cell_type": "code",
   "execution_count": 11,
   "outputs": [
    {
     "name": "stdout",
     "text": [
      "Help on function inner in module __main__:\n",
      "\n",
      "inner(*args, **kwargs)\n",
      "\n"
     ],
     "output_type": "stream"
    }
   ],
   "source": [
    "help(max) "
   ],
   "metadata": {
    "collapsed": false,
    "pycharm": {
     "name": "#%%\n",
     "is_executing": false
    }
   }
  },
  {
   "cell_type": "code",
   "execution_count": 12,
   "outputs": [
    {
     "name": "stdout",
     "text": [
      "Help on function max in module __main__:\n",
      "\n",
      "max(*args, **kwargs)\n",
      "    Finds the largest argument.\n",
      "\n"
     ],
     "output_type": "stream"
    }
   ],
   "source": [
    "\n",
    "DEBUG = True\n",
    "\n",
    "def trace(f):\n",
    "    \n",
    "    if not DEBUG:\n",
    "        return f\n",
    "    \n",
    "    def inner(*args, **kwargs):\n",
    "        call = \", \".join(\n",
    "            [str(a) for a in args] + [f\"{k}={v}\" for k, v in kwargs]\n",
    "        )\n",
    "        print(f\"{f.__name__}({call}) = ...\")\n",
    "        ret = f(*args, **kwargs)\n",
    "        print(f\"{f.__name__}({call}) = {ret}\")\n",
    "        return  ret\n",
    "    inner.__name__ = f.__name__\n",
    "    inner.__doc__ = f.__doc__\n",
    "    inner.__module__ = f.__module__\n",
    "    \n",
    "    return inner\n",
    "\n",
    "@trace\n",
    "def max(*args):\n",
    "    \"\"\"Finds the largest argument.\"\"\"\n",
    "    ret = 0\n",
    "    for x in args:\n",
    "        ret = ret if x < ret else x\n",
    "    return ret\n",
    "\n",
    "help(max)"
   ],
   "metadata": {
    "collapsed": false,
    "pycharm": {
     "name": "#%%\n",
     "is_executing": false
    }
   }
  },
  {
   "cell_type": "markdown",
   "source": [
    "We can extract this wrapper update functionality"
   ],
   "metadata": {
    "collapsed": false,
    "pycharm": {
     "name": "#%% md\n"
    }
   }
  },
  {
   "cell_type": "code",
   "execution_count": 13,
   "outputs": [
    {
     "name": "stdout",
     "text": [
      "Help on function max in module __main__:\n",
      "\n",
      "max(*args)\n",
      "    Finds the largest argument.\n",
      "\n"
     ],
     "output_type": "stream"
    }
   ],
   "source": [
    "def update_wrapper(wrapped, wrapper):\n",
    "    for attr in [\"__name__\", \"__doc__\", \"__module__\"]:\n",
    "        setattr(wrapper, attr, getattr(wrapped, attr))\n",
    "        wrapper.__wrapped__ = wrapped\n",
    "\n",
    "DEBUG = True\n",
    "\n",
    "def trace(f):\n",
    "    \n",
    "    if not DEBUG:\n",
    "        return f\n",
    "    \n",
    "    def inner(*args, **kwargs):\n",
    "        call = \", \".join(\n",
    "            [str(a) for a in args] + [f\"{k}={v}\" for k, v in kwargs]\n",
    "        )\n",
    "        print(f\"{f.__name__}({call}) = ...\")\n",
    "        ret = f(*args, **kwargs)\n",
    "        print(f\"{f.__name__}({call}) = {ret}\")\n",
    "        return  ret\n",
    "    update_wrapper(f, inner)\n",
    "    \n",
    "    return inner\n",
    "\n",
    "@trace\n",
    "def max(*args):\n",
    "    \"\"\"Finds the largest argument.\"\"\"\n",
    "    ret = 0\n",
    "    for x in args:\n",
    "        ret = ret if x < ret else x\n",
    "    return ret\n",
    "\n",
    "help(max)"
   ],
   "metadata": {
    "collapsed": false,
    "pycharm": {
     "name": "#%%\n",
     "is_executing": false
    }
   }
  },
  {
   "cell_type": "markdown",
   "source": [
    "This also can be decorated"
   ],
   "metadata": {
    "collapsed": false,
    "pycharm": {
     "name": "#%% md\n"
    }
   }
  },
  {
   "cell_type": "code",
   "execution_count": 15,
   "outputs": [
    {
     "name": "stdout",
     "text": [
      "Help on function max in module __main__:\n",
      "\n",
      "max(*args)\n",
      "    Finds the largest argument.\n",
      "\n"
     ],
     "output_type": "stream"
    }
   ],
   "source": [
    "import functools\n",
    "\n",
    "def update_wrapper(wrapped, wrapper):\n",
    "    for attr in [\"__name__\", \"__doc__\", \"__module__\"]:\n",
    "        setattr(wrapper, attr, getattr(wrapped, attr))\n",
    "        wrapper.__wrapped__ = wrapped\n",
    "    return wrapper\n",
    "\n",
    "DEBUG = True\n",
    "\n",
    "def trace(f):\n",
    "    if not DEBUG:\n",
    "        return f\n",
    "    \n",
    "    wraps = functools.partial(update_wrapper, f)\n",
    "    \n",
    "    @wraps\n",
    "    def inner(*args, **kwargs):\n",
    "        call = \", \".join(\n",
    "            [str(a) for a in args] + [f\"{k}={v}\" for k, v in kwargs]\n",
    "        )\n",
    "        print(f\"{f.__name__}({call}) = ...\")\n",
    "        ret = f(*args, **kwargs)\n",
    "        print(f\"{f.__name__}({call}) = {ret}\")\n",
    "        return  ret\n",
    "    return inner\n",
    "\n",
    "@trace\n",
    "def max(*args):\n",
    "    \"\"\"Finds the largest argument.\"\"\"\n",
    "    ret = 0\n",
    "    for x in args:\n",
    "        ret = ret if x < ret else x\n",
    "    return ret\n",
    "\n",
    "help(max)"
   ],
   "metadata": {
    "collapsed": false,
    "pycharm": {
     "name": "#%%\n",
     "is_executing": false
    }
   }
  },
  {
   "cell_type": "markdown",
   "source": [
    "Same without functools\n"
   ],
   "metadata": {
    "collapsed": false,
    "pycharm": {
     "name": "#%% md\n"
    }
   }
  },
  {
   "cell_type": "code",
   "execution_count": 1,
   "outputs": [
    {
     "name": "stdout",
     "text": [
      "Help on function max in module __main__:\n",
      "\n",
      "max(*args)\n",
      "    Finds the largest argument.\n",
      "\n"
     ],
     "output_type": "stream"
    }
   ],
   "source": [
    "\n",
    "def update_wrapper(wrapped, wrapper):\n",
    "    for attr in [\"__name__\", \"__doc__\", \"__module__\"]:\n",
    "        setattr(wrapper, attr, getattr(wrapped, attr))\n",
    "    return wrapper\n",
    "\n",
    "DEBUG = True\n",
    "\n",
    "def wraps(f):\n",
    "    def deco(g):\n",
    "        update_wrapper(f, g)\n",
    "        return  g\n",
    "    return  deco\n",
    "\n",
    "def trace(f):\n",
    "    if not DEBUG:\n",
    "        return f\n",
    "        \n",
    "    @wraps(f)\n",
    "    def inner(*args, **kwargs):\n",
    "        call = \", \".join(\n",
    "            [str(a) for a in args] + [f\"{k}={v}\" for k, v in kwargs]\n",
    "        )\n",
    "        print(f\"{f.__name__}({call}) = ...\")\n",
    "        ret = f(*args, **kwargs)\n",
    "        print(f\"{f.__name__}({call}) = {ret}\")\n",
    "        return  ret\n",
    "    return inner\n",
    "\n",
    "@trace\n",
    "def max(*args):\n",
    "    \"\"\"Finds the largest argument.\"\"\"\n",
    "    ret = 0\n",
    "    for x in args:\n",
    "        ret = ret if x < ret else x\n",
    "    return ret\n",
    "\n",
    "help(max)"
   ],
   "metadata": {
    "collapsed": false,
    "pycharm": {
     "name": "#%%\n",
     "is_executing": false
    }
   }
  },
  {
   "cell_type": "markdown",
   "source": [
    "This functionality is already in functools\n"
   ],
   "metadata": {
    "collapsed": false,
    "pycharm": {
     "name": "#%% md\n"
    }
   }
  },
  {
   "cell_type": "code",
   "execution_count": 5,
   "outputs": [
    {
     "name": "stdout",
     "text": [
      "Help on function max in module __main__:\n",
      "\n",
      "max(*args)\n",
      "    Finds the largest argument.\n",
      "\n"
     ],
     "output_type": "stream"
    }
   ],
   "source": [
    "import functools\n",
    "\n",
    "DEBUG = True\n",
    "\n",
    "def trace(f):\n",
    "    if not DEBUG:\n",
    "        return f\n",
    "        \n",
    "    @functools.wraps(f)\n",
    "    def inner(*args, **kwargs):\n",
    "        call = \", \".join(\n",
    "            [str(a) for a in args] + [f\"{k}={v}\" for k, v in kwargs]\n",
    "        )\n",
    "        print(f\"{f.__name__}({call}) = ...\")\n",
    "        ret = f(*args, **kwargs)\n",
    "        print(f\"{f.__name__}({call}) = {ret}\")\n",
    "        return  ret\n",
    "    \n",
    "    return inner\n",
    "\n",
    "@trace\n",
    "def max(*args):\n",
    "    \"\"\"Finds the largest argument.\"\"\"\n",
    "    ret = 0\n",
    "    for x in args:\n",
    "        ret = ret if x < ret else x\n",
    "    return ret\n",
    "\n",
    "help(max)"
   ],
   "metadata": {
    "collapsed": false,
    "pycharm": {
     "name": "#%%\n",
     "is_executing": false
    }
   }
  },
  {
   "cell_type": "markdown",
   "source": [
    "Now we want to output the trace result to stderr"
   ],
   "metadata": {
    "collapsed": false,
    "pycharm": {
     "name": "#%% md\n",
     "is_executing": false
    }
   }
  },
  {
   "cell_type": "code",
   "execution_count": 8,
   "outputs": [
    {
     "name": "stderr",
     "text": [
      "max(1, 2) = ...\n",
      "max(1, 2) = 2\n"
     ],
     "output_type": "stream"
    },
    {
     "data": {
      "text/plain": "2"
     },
     "metadata": {},
     "output_type": "execute_result",
     "execution_count": 8
    }
   ],
   "source": [
    "import functools\n",
    "import sys\n",
    "\n",
    "DEBUG = True\n",
    "\n",
    "def trace(stream=sys.stdout):\n",
    "    def decorator(f):\n",
    "        if not DEBUG:\n",
    "            return f\n",
    "        \n",
    "        @functools.wraps(f)\n",
    "        def inner(*args, **kwargs):\n",
    "            call = \", \".join(\n",
    "                [str(a) for a in args] + [f\"{k}={v}\" for k, v in kwargs]\n",
    "            )\n",
    "            print(f\"{f.__name__}({call}) = ...\", file=stream)\n",
    "            ret = f(*args, **kwargs)\n",
    "            print(f\"{f.__name__}({call}) = {ret}\", file=stream)\n",
    "            return  ret\n",
    "        \n",
    "        return inner\n",
    "    return decorator\n",
    "\n",
    "@trace(sys.stderr)\n",
    "def max(*args):\n",
    "    \"\"\"Finds the largest argument.\"\"\"\n",
    "    ret = 0\n",
    "    for x in args:\n",
    "        ret = ret if x < ret else x\n",
    "    return ret\n",
    "\n",
    "max(1, 2)"
   ],
   "metadata": {
    "collapsed": false,
    "pycharm": {
     "name": "#%%\n",
     "is_executing": false
    }
   }
  },
  {
   "cell_type": "markdown",
   "source": [
    "But if we don't want to put arguments every time @trace(sys.stderr). Sometimes we want just @trace"
   ],
   "metadata": {
    "collapsed": false,
    "pycharm": {
     "name": "#%% md\n"
    }
   }
  },
  {
   "cell_type": "code",
   "execution_count": 15,
   "outputs": [
    {
     "name": "stderr",
     "text": [
      "max(1, 2) = ...\n",
      "max(1, 2) = 2\n"
     ],
     "output_type": "stream"
    },
    {
     "data": {
      "text/plain": "2"
     },
     "metadata": {},
     "output_type": "execute_result",
     "execution_count": 15
    }
   ],
   "source": [
    "import functools\n",
    "import sys\n",
    "\n",
    "DEBUG = True\n",
    "\n",
    "def trace(f=None, *, stream=sys.stdout):\n",
    "    if f is None:\n",
    "        return functools.partial(trace, stream=stream)\n",
    "    \n",
    "    if not DEBUG:\n",
    "        return f\n",
    "    \n",
    "    @functools.wraps(f)\n",
    "    def inner(*args, **kwargs):\n",
    "        call = \", \".join(\n",
    "            [str(a) for a in args] + [f\"{k}={v}\" for k, v in kwargs]\n",
    "        )\n",
    "        print(f\"{f.__name__}({call}) = ...\", file=stream)\n",
    "        ret = f(*args, **kwargs)\n",
    "        print(f\"{f.__name__}({call}) = {ret}\", file=stream)\n",
    "        return  ret\n",
    "        \n",
    "    return inner\n",
    "\n",
    "\n",
    "@trace(stream=sys.stderr)\n",
    "def max(*args):\n",
    "    \"\"\"Finds the largest argument.\"\"\"\n",
    "    ret = 0\n",
    "    for x in args:\n",
    "        ret = ret if x < ret else x\n",
    "    return ret\n",
    "\n",
    "max(1, 2)"
   ],
   "metadata": {
    "collapsed": false,
    "pycharm": {
     "name": "#%%\n",
     "is_executing": false
    }
   }
  },
  {
   "cell_type": "markdown",
   "source": [
    "## Examples\n",
    "### Logger initialization\n",
    "we want to make init logger callable only once"
   ],
   "metadata": {
    "collapsed": false,
    "pycharm": {
     "name": "#%% md\n"
    }
   }
  },
  {
   "cell_type": "code",
   "execution_count": 19,
   "outputs": [
    {
     "name": "stdout",
     "text": [
      "initializing logger\n"
     ],
     "output_type": "stream"
    },
    {
     "name": "stderr",
     "text": [
      "D:\\Tools\\Python\\Anaconda\\envs\\python_course\\lib\\site-packages\\ipykernel_launcher.py:20: DeprecationWarning: init_logger is deprecated\n",
      "Don't use init_logger, use ... instead\n"
     ],
     "output_type": "stream"
    }
   ],
   "source": [
    "import warnings\n",
    "\n",
    "def once(f):\n",
    "    called = False\n",
    "    def inner(*args, **kwargs):\n",
    "        nonlocal called\n",
    "        if not called:\n",
    "            called = True\n",
    "            res = f(*args, **kwargs)\n",
    "            assert res is None\n",
    "    \n",
    "    return inner\n",
    "\n",
    "    \n",
    "    \n",
    "    \n",
    "def deprecated(f):\n",
    "    called = False\n",
    "    def inner(*args, **kwargs):\n",
    "        warnings.warn(f\"{f.__name__} is deprecated\", category=DeprecationWarning)\n",
    "        print(f\"Don't use {f.__name__}, use ... instead\", file=sys.stderr)\n",
    "        f(*args, **kwargs)\n",
    "    \n",
    "    return inner\n",
    "\n",
    "\n",
    "@once\n",
    "@deprecated\n",
    "def init_logger():\n",
    "    print(\"initializing logger\")\n",
    "    \n",
    "\n",
    "\n",
    "def foo():\n",
    "    init_logger()\n",
    "\n",
    "foo()\n",
    "foo()\n",
    "    "
   ],
   "metadata": {
    "collapsed": false,
    "pycharm": {
     "name": "#%%\n",
     "is_executing": false
    }
   }
  },
  {
   "cell_type": "markdown",
   "source": [
    "### Time and cache"
   ],
   "metadata": {
    "collapsed": false,
    "pycharm": {
     "name": "#%% md\n"
    }
   }
  },
  {
   "cell_type": "code",
   "execution_count": 27,
   "outputs": [
    {
     "name": "stdout",
     "text": [
      "28657\n",
      "43\n",
      "0.001493199998549244\n",
      "{((1,), frozenset()): 1, ((0,), frozenset()): 1, ((2,), frozenset()): 2, ((3,), frozenset()): 3, ((4,), frozenset()): 5, ((5,), frozenset()): 8, ((6,), frozenset()): 13, ((7,), frozenset()): 21, ((8,), frozenset()): 34, ((9,), frozenset()): 55, ((10,), frozenset()): 89, ((11,), frozenset()): 144, ((12,), frozenset()): 233, ((13,), frozenset()): 377, ((14,), frozenset()): 610, ((15,), frozenset()): 987, ((16,), frozenset()): 1597, ((17,), frozenset()): 2584, ((18,), frozenset()): 4181, ((19,), frozenset()): 6765, ((20,), frozenset()): 10946, ((21,), frozenset()): 17711, ((22,), frozenset()): 28657}\n"
     ],
     "output_type": "stream"
    }
   ],
   "source": [
    "import time\n",
    "import functools\n",
    "\n",
    "\n",
    "def profile(f):\n",
    "    @functools.wraps(f)\n",
    "    def inner(*args, **kwargs):\n",
    "        start = time.perf_counter()\n",
    "        res = f(*args, **kwargs)\n",
    "        elapsed = time.perf_counter() - start\n",
    "        inner.__n_calls__ += 1\n",
    "        inner.__total_time__ += elapsed\n",
    "        return res\n",
    "    \n",
    "    inner.__n_calls__ = 0\n",
    "    inner.__total_time__ = 0\n",
    "    return inner\n",
    "\n",
    "\n",
    "def memoize(f):\n",
    "    cache = {}\n",
    "    \n",
    "    @functools.wraps(f)\n",
    "    def inner(*args, **kwargs):\n",
    "        key = (args,   frozenset(kwargs))\n",
    "        if key not in cache:\n",
    "            cache[key] = f(*args, **kwargs)\n",
    "        return cache[key]\n",
    "    inner.__cache__ = cache\n",
    "    return inner\n",
    "    \n",
    "@profile\n",
    "@memoize\n",
    "def fib(n):\n",
    "    return 1 if n <= 1 else fib(n-1) + fib(n-2)\n",
    "\n",
    "\n",
    "print(fib(22))\n",
    "print(fib.__n_calls__)\n",
    "print(fib.__total_time__)\n",
    "print(fib.__cache__)\n",
    "\n",
    "## another cache\n",
    "@profile\n",
    "@functools.lru_cache(maxsize=None)\n",
    "def fib(n):\n",
    "    return 1 if n <= 1 else fib(n-1) + fib(n-2)"
   ],
   "metadata": {
    "collapsed": false,
    "pycharm": {
     "name": "#%%\n",
     "is_executing": false
    }
   }
  },
  {
   "cell_type": "markdown",
   "source": [
    "## Singledispatch\n",
    "\n",
    "example we can call len from many objects\n",
    "\n",
    "\n",
    "len(\"foo\")\n",
    "len([1, 2, 3])\n",
    "len({})\n",
    "\n",
    "\"foo\".__len__()\n",
    "\n",
    "if we want to define such function:"
   ],
   "metadata": {
    "collapsed": false,
    "pycharm": {
     "name": "#%% md\n"
    }
   }
  },
  {
   "cell_type": "code",
   "execution_count": 29,
   "outputs": [
    {
     "name": "stdout",
     "text": [
      "null\n",
      "92\n",
      "[92, null]\n"
     ],
     "output_type": "stream"
    }
   ],
   "source": [
    "@functools.singledispatch\n",
    "def json(x):\n",
    "    assert False, f\"json not supported for {type(x)}\"\n",
    "    \n",
    "@json.register(type(None))\n",
    "def _(x):\n",
    "    return \"null\"\n",
    "\n",
    "@json.register(int)\n",
    "def _(x):\n",
    "    return str(x)\n",
    "\n",
    "@json.register(list)\n",
    "def _(xs):\n",
    "    contents = \", \".join(json(x) for x in xs)\n",
    "    return f\"[{contents}]\"\n",
    "\n",
    "print(json(None))\n",
    "print(json(92))\n",
    "print(json([92, None]))"
   ],
   "metadata": {
    "collapsed": false,
    "pycharm": {
     "name": "#%%\n",
     "is_executing": false
    }
   }
  },
  {
   "cell_type": "code",
   "source": [
    "## Functools.reduce"
   ],
   "metadata": {
    "collapsed": false,
    "pycharm": {
     "name": "#%% md \n",
     "is_executing": false
    }
   },
   "execution_count": 31,
   "outputs": []
  },
  {
   "cell_type": "code",
   "execution_count": 32,
   "outputs": [
    {
     "name": "stdout",
     "text": [
      "initial, a, b, c\n"
     ],
     "output_type": "stream"
    }
   ],
   "source": [
    "res = functools.reduce(lambda x, y: x + \", \" + y , [\"a\", \"b\", \"c\"], \"initial\")\n",
    "\n",
    "print(res)"
   ],
   "metadata": {
    "collapsed": false,
    "pycharm": {
     "name": "#%%\n",
     "is_executing": false
    }
   }
  },
  {
   "cell_type": "code",
   "execution_count": 34,
   "outputs": [
    {
     "name": "stdout",
     "text": [
      "5\n"
     ],
     "output_type": "stream"
    }
   ],
   "source": [
    "def max(xs):\n",
    "    return functools.reduce(lambda x, y : x if x >= y else y, xs, float(\"-inf\"))\n",
    "print (max([1, 2, 3, 4, 5, 3]))\n"
   ],
   "metadata": {
    "collapsed": false,
    "pycharm": {
     "name": "#%%\n",
     "is_executing": false
    }
   }
  },
  {
   "cell_type": "code",
   "execution_count": null,
   "outputs": [],
   "source": [
    "\n"
   ],
   "metadata": {
    "collapsed": false,
    "pycharm": {
     "name": "#%%\n"
    }
   }
  }
 ],
 "metadata": {
  "kernelspec": {
   "display_name": "Python 3",
   "language": "python",
   "name": "python3"
  },
  "language_info": {
   "codemirror_mode": {
    "name": "ipython",
    "version": 2
   },
   "file_extension": ".py",
   "mimetype": "text/x-python",
   "name": "python",
   "nbconvert_exporter": "python",
   "pygments_lexer": "ipython2",
   "version": "2.7.6"
  },
  "pycharm": {
   "stem_cell": {
    "cell_type": "raw",
    "source": [],
    "metadata": {
     "collapsed": false
    }
   }
  }
 },
 "nbformat": 4,
 "nbformat_minor": 0
}