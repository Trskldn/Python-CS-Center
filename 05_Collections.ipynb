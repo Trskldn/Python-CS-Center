{
 "cells": [
  {
   "cell_type": "code",
   "execution_count": null,
   "metadata": {
    "collapsed": true
   },
   "outputs": [],
   "source": []
  },
  {
   "cell_type": "markdown",
   "source": [
    "## Stack\n",
    " "
   ],
   "metadata": {
    "collapsed": false,
    "pycharm": {
     "name": "#%% md\n"
    }
   }
  },
  {
   "cell_type": "code",
   "execution_count": 1,
   "outputs": [
    {
     "data": {
      "text/plain": "4"
     },
     "metadata": {},
     "output_type": "execute_result",
     "execution_count": 1
    }
   ],
   "source": [
    "xs = [1, 2, 3]\n",
    "xs.append(4)\n",
    "xs.pop()"
   ],
   "metadata": {
    "collapsed": false,
    "pycharm": {
     "name": "#%%\n",
     "is_executing": false
    }
   }
  },
  {
   "cell_type": "markdown",
   "source": [
    "## reversed"
   ],
   "metadata": {
    "collapsed": false,
    "pycharm": {
     "name": "#%% md\n",
     "is_executing": false
    }
   }
  },
  {
   "cell_type": "code",
   "execution_count": 8,
   "outputs": [
    {
     "name": "stdout",
     "text": [
      "[3, 2, 1]\n",
      "<list_reverseiterator object at 0x000002C968F42908>\n",
      "[1, 2, 3]\n"
     ],
     "output_type": "stream"
    }
   ],
   "source": [
    "xs = [1, 2, 3]\n",
    "xs.reverse()\n",
    "print(xs)\n",
    "\n",
    "print(reversed(xs)) # new object, lazy\n",
    "print(list(reversed(xs))) # here we copy the list \n"
   ],
   "metadata": {
    "collapsed": false,
    "pycharm": {
     "name": "#%%\n",
     "is_executing": false
    }
   }
  },
  {
   "cell_type": "markdown",
   "source": [
    "## reversed"
   ],
   "metadata": {
    "collapsed": false,
    "pycharm": {
     "name": "#%% md\n"
    }
   }
  },
  {
   "cell_type": "code",
   "execution_count": 10,
   "outputs": [
    {
     "name": "stdout",
     "text": [
      "[42, 62, 92]\n",
      "[92, 42, 62]\n",
      "[42, 62, 92]\n",
      "['Greenway', 'Cortazar', 'Adams']\n"
     ],
     "output_type": "stream"
    }
   ],
   "source": [
    "xs = [92, 42, 62]\n",
    "print(sorted(xs)) # not lazy, returns new list\n",
    "\n",
    "print(xs) # didn't mutate\n",
    "xs.sort()\n",
    "print(xs) # mutated\n",
    "xs = [\"Greenway\", \"Adams\", \"Cortazar\"]\n",
    "print(sorted(xs, key=len, reverse=True))\n",
    "\n",
    "# we can use functools.cmp_to_key"
   ],
   "metadata": {
    "collapsed": false,
    "pycharm": {
     "name": "#%%\n",
     "is_executing": false
    }
   }
  },
  {
   "cell_type": "markdown",
   "source": [
    "## Complex key"
   ],
   "metadata": {
    "collapsed": false,
    "pycharm": {
     "name": "#%% md\n"
    }
   }
  },
  {
   "cell_type": "code",
   "execution_count": 13,
   "outputs": [
    {
     "name": "stdout",
     "text": [
      "True\n",
      "True\n"
     ],
     "output_type": "stream"
    }
   ],
   "source": [
    "print((1, 2) < (3, 0))\n",
    "print((1, 2) < (1, 2, 3))\n",
    "people = [\"Greenway\", \"Adams\", \"Cortazar\"]\n",
    "# print(sorted(\n",
    "#     people,\n",
    "#     key=lambda  p: (p.first_name, -len(p.last_name))\n",
    "# ))\n",
    "# people.sort(key=lambda p:last_name, reverse=True)\n",
    "# people.sort(key=lambda p:first_name)\n",
    " "
   ],
   "metadata": {
    "collapsed": false,
    "pycharm": {
     "name": "#%%\n",
     "is_executing": false
    }
   }
  },
  {
   "cell_type": "markdown",
   "source": [
    "## Queue"
   ],
   "metadata": {
    "collapsed": false,
    "pycharm": {
     "name": "#%% md\n"
    }
   }
  },
  {
   "cell_type": "code",
   "execution_count": 17,
   "outputs": [
    {
     "name": "stdout",
     "text": [
      "deque([3, 4, 5])\n",
      "deque([2, 3, 4, 5])\n",
      "5\n",
      "deque([4, 2, 3])\n",
      "None\n"
     ],
     "output_type": "stream"
    }
   ],
   "source": [
    "from queue import Queue # this is from concurrency\n",
    "\n",
    "from collections import deque\n",
    "\n",
    "q = deque([3, 4, 5])  # linked list of chunks\n",
    "print(q)\n",
    "\n",
    "q.appendleft(2)\n",
    "print(q)\n",
    "print(q.pop())\n",
    "\n",
    "deque([2, 3, 4])\n",
    "q.rotate(1)\n",
    "print(q)\n",
    "\n",
    "print(q.maxlen)"
   ],
   "metadata": {
    "collapsed": false,
    "pycharm": {
     "name": "#%%\n",
     "is_executing": false
    }
   }
  },
  {
   "cell_type": "code",
   "execution_count": null,
   "outputs": [],
   "source": [
    "## Queue with priority"
   ],
   "metadata": {
    "collapsed": false,
    "pycharm": {
     "name": "#%%\n"
    }
   }
  },
  {
   "cell_type": "code",
   "execution_count": 26,
   "outputs": [
    {
     "name": "stdout",
     "text": [
      "[(6, 'A'), (2, 'B'), (0, 'C'), (2, 'D'), (3, 'E')]\n",
      "[(0, 'C'), (2, 'B'), (6, 'A'), (2, 'D'), (3, 'E')]\n",
      "(0, 'C')\n",
      "[(2, 'B'), (2, 'D'), (6, 'A'), (3, 'E')]\n",
      "[(2, 'B'), (2, 'D'), (6, 'A'), (3, 'E'), (2, 'X')]\n"
     ],
     "output_type": "stream"
    }
   ],
   "source": [
    "import heapq\n",
    "import random\n",
    "import string\n",
    "\n",
    "xs = [(random.randrange(10), c)\n",
    "      for c in string.ascii_uppercase[:5]]\n",
    "print(xs)\n",
    "heapq.heapify(xs)\n",
    "\n",
    "print(xs)\n",
    "\n",
    "print(heapq.heappop(xs))\n",
    "\n",
    "print(xs)\n",
    "heapq.heappush(xs, (2, 'X'))\n",
    "print(xs)"
   ],
   "metadata": {
    "collapsed": false,
    "pycharm": {
     "name": "#%%\n",
     "is_executing": false
    }
   }
  },
  {
   "cell_type": "markdown",
   "source": [
    "## Tuples"
   ],
   "metadata": {
    "collapsed": false,
    "pycharm": {
     "name": "#%% md\n"
    }
   }
  },
  {
   "cell_type": "code",
   "execution_count": 27,
   "outputs": [
    {
     "name": "stdout",
     "text": [
      "Carlin\n",
      "('May', 12, 1937)\n"
     ],
     "output_type": "stream"
    }
   ],
   "source": [
    "person = (\"Gerorge\", \"Carlin\", \"May\", 12, 1937)\n",
    "last_name = person[1]\n",
    "birthday = person[2:]\n",
    "print(last_name)\n",
    "print(birthday)"
   ],
   "metadata": {
    "collapsed": false,
    "pycharm": {
     "name": "#%% \n",
     "is_executing": false
    }
   }
  },
  {
   "cell_type": "code",
   "execution_count": 28,
   "outputs": [
    {
     "name": "stdout",
     "text": [
      "Carlin\n",
      "('May', 12, 1937)\n"
     ],
     "output_type": "stream"
    }
   ],
   "source": [
    "LAST_NAME = 1\n",
    "BIRTHDAY = slice(2, None) #[2:]\n",
    "\n",
    "print(person[LAST_NAME])\n",
    "print(person[BIRTHDAY])\n"
   ],
   "metadata": {
    "collapsed": false,
    "pycharm": {
     "name": "#%%\n",
     "is_executing": false
    }
   }
  },
  {
   "cell_type": "markdown",
   "source": [
    "## Names for tuple\n",
    "### Hack 1: Named tuple"
   ],
   "metadata": {
    "collapsed": false,
    "pycharm": {
     "name": "#%% md\n"
    }
   }
  },
  {
   "cell_type": "code",
   "execution_count": 29,
   "outputs": [
    {
     "name": "stdout",
     "text": [
      "Terence Gilliam 77\n",
      "Person(first_name='Terry', last_name='Gilliam', age=77)\n",
      "77\n"
     ],
     "output_type": "stream"
    }
   ],
   "source": [
    "from collections import namedtuple\n",
    "\n",
    "Person = namedtuple(\n",
    "    \"Person\",\n",
    "    [\"first_name\", \"last_name\", \"age\"]\n",
    ")\n",
    "p = Person(\"Terence\", \"Gilliam\", 77)\n",
    "print(p.first_name, p.last_name, p.age)\n",
    "\n",
    "print(p._replace(first_name=\"Terry\"))\n",
    "print(p[2])"
   ],
   "metadata": {
    "collapsed": false,
    "pycharm": {
     "name": "#%%\n",
     "is_executing": false
    }
   }
  },
  {
   "cell_type": "markdown",
   "source": [
    "### since 3.6 typing annotations"
   ],
   "metadata": {
    "collapsed": false,
    "pycharm": {
     "name": "#%% md\n"
    }
   }
  },
  {
   "cell_type": "code",
   "execution_count": 35,
   "outputs": [
    {
     "data": {
      "text/plain": "[1, 1, 2]"
     },
     "metadata": {},
     "output_type": "execute_result",
     "execution_count": 35
    }
   ],
   "source": [
    "from typing import List\n",
    "## This is only for static analyzers (like PyCharm)\n",
    "def fib(n: int) -> List[int]:\n",
    "    fib1: int = 1  # we just mark this variable\n",
    "    fib2: int = 1\n",
    "    res = []\n",
    "    for _ in range(n):\n",
    "        res.append(fib1)\n",
    "        fib1, fib2 = fib2, fib1 + fib2\n",
    "    return res\n",
    "\n",
    "fib(3)"
   ],
   "metadata": {
    "collapsed": false,
    "pycharm": {
     "name": "#%%\n",
     "is_executing": false
    }
   }
  },
  {
   "cell_type": "markdown",
   "source": [
    "### Hack 2: Typing annotations for named tuple\n",
    "**Immutable, hash/eq, ord, repr**"
   ],
   "metadata": {
    "collapsed": false,
    "pycharm": {
     "name": "#%% md\n"
    }
   }
  },
  {
   "cell_type": "code",
   "execution_count": 36,
   "outputs": [],
   "source": [
    "from typing import NamedTuple\n",
    "\n",
    "class Person(NamedTuple):\n",
    "    first_name: str\n",
    "    last_name: str\n",
    "    age: int = 42\n",
    "    \n",
    "p = Person(\"Terence\", \"Gilliam\", 77)"
   ],
   "metadata": {
    "collapsed": false,
    "pycharm": {
     "name": "#%%\n",
     "is_executing": false
    }
   }
  },
  {
   "cell_type": "markdown",
   "source": [
    "### Hack 3: Dataclass\n",
    "**could be mutable (but without hashcode)**"
   ],
   "metadata": {
    "collapsed": false,
    "pycharm": {
     "name": "#%% md\n"
    }
   }
  },
  {
   "cell_type": "code",
   "execution_count": 37,
   "outputs": [],
   "source": [
    "from dataclasses import dataclass #>= 3.7\n",
    "\n",
    "@dataclass(frozen=True)\n",
    "class Person:\n",
    "    first_name: str\n",
    "    last_name: str\n",
    "    age: int = 42"
   ],
   "metadata": {
    "collapsed": false,
    "pycharm": {
     "name": "#%%\n",
     "is_executing": false
    }
   }
  },
  {
   "cell_type": "markdown",
   "source": [
    "## Dictionaries\n",
    "\n",
    "let's assume that we want to write a graph"
   ],
   "metadata": {
    "collapsed": false,
    "pycharm": {
     "name": "#%% md\n"
    }
   }
  },
  {
   "cell_type": "code",
   "execution_count": 38,
   "outputs": [],
   "source": [
    "graph = {}\n",
    "\n",
    "def add_edge(u, v):\n",
    "    if u not in graph:\n",
    "        graph[u] = []\n",
    "    graph[u].append(v)\n",
    "\n",
    "def neighbours(u):\n",
    "    return graph[u] if u in graph else []"
   ],
   "metadata": {
    "collapsed": false,
    "pycharm": {
     "name": "#%%\n",
     "is_executing": false
    }
   }
  },
  {
   "cell_type": "code",
   "execution_count": 39,
   "outputs": [],
   "source": [
    "# better\n",
    "\n",
    "def add_edge(u,v):\n",
    "    graph.setdefault(u, []).append(v)\n",
    "\n",
    "def neighbours(u):\n",
    "    return graph.get(u, [])"
   ],
   "metadata": {
    "collapsed": false,
    "pycharm": {
     "name": "#%%\n",
     "is_executing": false
    }
   }
  },
  {
   "cell_type": "code",
   "execution_count": 41,
   "outputs": [
    {
     "name": "stdout",
     "text": [
      "[2, 3]\n",
      "[]\n"
     ],
     "output_type": "stream"
    }
   ],
   "source": [
    "# better\n",
    "from collections import defaultdict\n",
    "\n",
    "graph = defaultdict(list)\n",
    "\n",
    "graph[1].append(2)\n",
    "graph[1].append(3)\n",
    "print(graph[1])\n",
    "\n",
    "print(graph[2])"
   ],
   "metadata": {
    "collapsed": false,
    "pycharm": {
     "name": "#%%\n",
     "is_executing": false
    }
   }
  },
  {
   "cell_type": "markdown",
   "source": [
    "### Usage of defaultdict\n",
    "#### count words"
   ],
   "metadata": {
    "collapsed": false,
    "pycharm": {
     "name": "#%% md\n"
    }
   }
  },
  {
   "cell_type": "code",
   "source": [
    "from collections import defaultdict\n",
    "\n",
    "def count_words(text):\n",
    "    res = defaultdict(lambda: 0) # int\n",
    "    for word in text.split():\n",
    "        res[word] += 1\n",
    "    return res\n",
    "\n",
    "words = sorted(\n",
    "    count_words(open(\"dummy_data/text_file.txt\").read()).items(),\n",
    "    key=lambda  it: it[1],\n",
    "    reverse=True\n",
    ")\n",
    "\n",
    "for word, count in words[:3]:\n",
    "    print(f\"{word:<5}: {count}\")"
   ],
   "metadata": {
    "collapsed": false,
    "pycharm": {
     "name": "#%% \n",
     "is_executing": false
    }
   },
   "execution_count": 52,
   "outputs": [
    {
     "name": "stdout",
     "text": [
      "mama : 28\n",
      "mila : 28\n",
      "ramu : 28\n"
     ],
     "output_type": "stream"
    }
   ]
  },
  {
   "cell_type": "markdown",
   "source": [
    "#### But we can use Counter"
   ],
   "metadata": {
    "collapsed": false
   }
  },
  {
   "cell_type": "code",
   "execution_count": 53,
   "outputs": [
    {
     "name": "stdout",
     "text": [
      "mama : 28\n",
      "mila : 28\n",
      "ramu : 28\n"
     ],
     "output_type": "stream"
    }
   ],
   "source": [
    "from collections import Counter\n",
    "\n",
    "def count_words(text):\n",
    "    return Counter(text.split())\n",
    "\n",
    "words = count_words(open(\"dummy_data/text_file.txt\").read())\n",
    "for word, count in words.most_common(3):\n",
    "    print(f\"{word:<5}: {count}\")\n"
   ],
   "metadata": {
    "collapsed": false,
    "pycharm": {
     "name": "#%%\n",
     "is_executing": false
    }
   }
  },
  {
   "cell_type": "code",
   "source": [
    "# more counter\n",
    "\n",
    "from collections import Counter\n",
    "\n",
    "c = Counter(a=3, b=1)\n",
    "d = Counter(a=1, b=2)\n",
    "\n",
    "print(c+d)\n",
    "print(c-d)\n",
    "print(c & d) # min\n",
    "print(c | d) # max\n"
   ],
   "metadata": {
    "collapsed": false,
    "pycharm": {
     "name": "#%%\n",
     "is_executing": false
    }
   },
   "execution_count": 1,
   "outputs": [
    {
     "name": "stdout",
     "text": [
      "Counter({'a': 4, 'b': 3})\n",
      "Counter({'a': 2})\n",
      "Counter({'a': 1, 'b': 1})\n",
      "Counter({'a': 3, 'b': 2})\n"
     ],
     "output_type": "stream"
    }
   ]
  },
  {
   "cell_type": "code",
   "execution_count": 5,
   "outputs": [
    {
     "name": "stdout",
     "text": [
      "Counter({92: -9})\n",
      "Counter({92: -8})\n",
      "Counter()\n",
      "Counter({92: -8})\n"
     ],
     "output_type": "stream"
    }
   ],
   "source": [
    "c = Counter()\n",
    "c[92] = -10\n",
    "c[92] += 1\n",
    "print(c)\n",
    "c.update([92])\n",
    "print(c)\n",
    "print(+c) # delete all <= 0 values (because all operations do this\n",
    "\n",
    "print(c)"
   ],
   "metadata": {
    "collapsed": false,
    "pycharm": {
     "name": "#%%\n",
     "is_executing": false
    }
   }
  },
  {
   "cell_type": "markdown",
   "source": [
    "## ChainMap\n",
    "chain maps (search in first, second and then third)\n"
   ],
   "metadata": {
    "collapsed": false,
    "pycharm": {
     "name": "#%% md\n"
    }
   }
  },
  {
   "cell_type": "code",
   "execution_count": 7,
   "outputs": [
    {
     "name": "stdout",
     "text": [
      "92\n",
      "1\n",
      "{'foo': 92}\n",
      "{'foo': 1}\n",
      "[{'foo': 1}, {'foo': 92}, {'baz': 93}]\n"
     ],
     "output_type": "stream"
    }
   ],
   "source": [
    "from collections import ChainMap\n",
    "\n",
    "locals = {}\n",
    "globals = {'foo': 92}\n",
    "builtins = {'baz' : 93}\n",
    "scope = ChainMap(locals, globals, builtins)\n",
    "print(scope['foo'])\n",
    "scope['foo'] = 1 # update the very first dict\n",
    "print(scope['foo'])\n",
    "\n",
    "print(globals)\n",
    "print(locals)\n",
    "print(scope.maps)\n"
   ],
   "metadata": {
    "collapsed": false,
    "pycharm": {
     "name": "#%%\n",
     "is_executing": false
    }
   }
  },
  {
   "cell_type": "markdown",
   "source": [
    "## OrderedDict\n",
    "from 3.6-3.7 it's obsolete, but if we compare two orderdicts -- order matters"
   ],
   "metadata": {
    "collapsed": false
   }
  },
  {
   "cell_type": "code",
   "execution_count": 12,
   "outputs": [
    {
     "name": "stdout",
     "text": [
      "['foo', 'bar']\n",
      "False\n",
      "OrderedDict([('foo', 1), ('bar', 2)])\n",
      "OrderedDict([('bar', 2), ('foo', 1)])\n",
      "True\n",
      "True\n"
     ],
     "output_type": "stream"
    }
   ],
   "source": [
    "from collections import OrderedDict\n",
    "d = OrderedDict()\n",
    "d['foo'] = 1\n",
    "d['bar'] = 2\n",
    "\n",
    "print(list(d)) # guaranteed order\n",
    "\n",
    "a = OrderedDict()\n",
    "a['foo'] = 1\n",
    "a['bar'] = 2\n",
    "b = OrderedDict()\n",
    "b['bar'] = 2\n",
    "b['foo'] = 1\n",
    "print(a == b)\n",
    "print(repr(a))\n",
    "print(repr(b))\n",
    "c = {\"foo\": 1, \"bar\": 2}\n",
    "print(a == c)\n",
    "print(b == c)\n"
   ],
   "metadata": {
    "collapsed": false,
    "pycharm": {
     "name": "#%%\n",
     "is_executing": false
    }
   }
  }
 ],
 "metadata": {
  "kernelspec": {
   "display_name": "Python 3",
   "language": "python",
   "name": "python3"
  },
  "language_info": {
   "codemirror_mode": {
    "name": "ipython",
    "version": 2
   },
   "file_extension": ".py",
   "mimetype": "text/x-python",
   "name": "python",
   "nbconvert_exporter": "python",
   "pygments_lexer": "ipython2",
   "version": "2.7.6"
  },
  "pycharm": {
   "stem_cell": {
    "cell_type": "raw",
    "source": [],
    "metadata": {
     "collapsed": false
    }
   }
  }
 },
 "nbformat": 4,
 "nbformat_minor": 0
}