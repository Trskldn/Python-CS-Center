{
 "cells": [
  {
   "cell_type": "markdown",
   "metadata": {
    "collapsed": true,
    "pycharm": {
     "name": "#%% md\n"
    }
   },
   "source": [
    "# Iterators"
   ]
  },
  {
   "cell_type": "markdown",
   "source": [
    "### Protocol of iteration"
   ],
   "metadata": {
    "collapsed": false,
    "pycharm": {
     "name": "#%% md\n"
    }
   }
  },
  {
   "cell_type": "code",
   "execution_count": 2,
   "outputs": [],
   "source": [
    "#if we have\n",
    "xs = []\n",
    "for x in xs:\n",
    "    #body\n",
    "    pass\n",
    "\n",
    "# we actually have\n",
    "\n",
    "it = xs.__iter__()\n",
    "while True:\n",
    "    try:\n",
    "        x = it.__next__()\n",
    "    except StopIteration:\n",
    "        break\n",
    "    #body\n",
    "    pass"
   ],
   "metadata": {
    "collapsed": false,
    "pycharm": {
     "name": "#%%\n"
    }
   }
  },
  {
   "cell_type": "markdown",
   "source": [
    "### How can we define iterator?"
   ],
   "metadata": {
    "collapsed": false,
    "pycharm": {
     "name": "#%% md\n"
    }
   }
  },
  {
   "cell_type": "code",
   "execution_count": 4,
   "outputs": [],
   "source": [
    "class Iterator:\n",
    "    def __next__(self):\n",
    "        # if self.has_more_elements():\n",
    "        #     return self.next_element()\n",
    "        raise StopIteration\n",
    "\n",
    "\n",
    "it = Iterator()\n",
    "elem = next(it, 0)"
   ],
   "metadata": {
    "collapsed": false,
    "pycharm": {
     "name": "#%%\n"
    }
   }
  },
  {
   "cell_type": "markdown",
   "source": [
    "## Iterable"
   ],
   "metadata": {
    "collapsed": false,
    "pycharm": {
     "name": "#%% md\n"
    }
   }
  },
  {
   "cell_type": "code",
   "execution_count": 5,
   "outputs": [],
   "source": [
    "class Iterable:\n",
    "    def __iter__(self):\n",
    "        return Iterator()\n",
    "\n",
    "\n",
    "x = Iterable()\n",
    "\n",
    "it = iter(x) # calls x.__iter()"
   ],
   "metadata": {
    "collapsed": false,
    "pycharm": {
     "name": "#%%\n"
    }
   }
  },
  {
   "cell_type": "markdown",
   "source": [
    "Iterator is iterable (good practice)\n",
    "\n"
   ],
   "metadata": {
    "collapsed": false,
    "pycharm": {
     "name": "#%% md\n"
    }
   }
  },
  {
   "cell_type": "code",
   "execution_count": 6,
   "outputs": [],
   "source": [
    "class Iterator:\n",
    "    def __next__(self):\n",
    "        # if self.has_more_elements():\n",
    "        #     return self.next_element()\n",
    "        raise StopIteration\n",
    "    def __iter__(self):\n",
    "        return self\n",
    "\n"
   ],
   "metadata": {
    "collapsed": false,
    "pycharm": {
     "name": "#%%\n"
    }
   }
  },
  {
   "cell_type": "markdown",
   "source": [
    "### Example"
   ],
   "metadata": {
    "collapsed": false,
    "pycharm": {
     "name": "#%% md\n"
    }
   }
  },
  {
   "cell_type": "code",
   "execution_count": 9,
   "outputs": [],
   "source": [
    "class MyRange:\n",
    "    def __init__(self, start, stop):\n",
    "        self.start = start\n",
    "        self.stop = stop\n",
    "    def __iter__(self):\n",
    "        return RangeIterator(self.start, self.stop)\n",
    "\n",
    "class RangeIterator:\n",
    "    def __init__(self, start, stop):\n",
    "        self.start = start\n",
    "        self.stop = stop\n",
    "\n",
    "    def __iter__(self):\n",
    "        return self\n",
    "\n",
    "    def __next__(self):\n",
    "        if self.start < self.stop:\n",
    "            res = self.start\n",
    "            self.start +=1\n",
    "            return res\n",
    "        raise StopIteration"
   ],
   "metadata": {
    "collapsed": false,
    "pycharm": {
     "name": "#%%\n"
    }
   }
  },
  {
   "cell_type": "code",
   "execution_count": 10,
   "outputs": [],
   "source": [
    "r = MyRange(0, 10)\n",
    "assert not hasattr(r, \"__contains__\")\n",
    "assert 8 in r # O(N)"
   ],
   "metadata": {
    "collapsed": false,
    "pycharm": {
     "name": "#%%\n"
    }
   }
  },
  {
   "cell_type": "markdown",
   "source": [
    "Iterator and iterable are different"
   ],
   "metadata": {
    "collapsed": false,
    "pycharm": {
     "name": "#%% md\n"
    }
   }
  },
  {
   "cell_type": "code",
   "execution_count": 13,
   "outputs": [
    {
     "name": "stdout",
     "output_type": "stream",
     "text": [
      "4950\n",
      "4950\n",
      "4950\n",
      "0\n"
     ]
    }
   ],
   "source": [
    "r = MyRange(0, 100)\n",
    "print(sum(r))\n",
    "print(sum(r))\n",
    "\n",
    "it = iter(r)\n",
    "print(sum(it))\n",
    "print(sum(it)) ## will be 0 since iteration is already over"
   ],
   "metadata": {
    "collapsed": false,
    "pycharm": {
     "name": "#%%\n"
    }
   }
  },
  {
   "cell_type": "markdown",
   "source": [
    "## more compact way to write iterator -- function with closure"
   ],
   "metadata": {
    "collapsed": false,
    "pycharm": {
     "name": "#%% md\n"
    }
   }
  },
  {
   "cell_type": "code",
   "execution_count": null,
   "outputs": [],
   "source": [
    "def MyRange(start, stop):\n",
    "    def step():\n",
    "        nonlocal start ## state of iterator (closure)\n",
    "        res = start\n",
    "        start += 1\n",
    "        return res\n",
    "    # iter(step_fn, sentinel)\n",
    "    return iter(step, stop)"
   ],
   "metadata": {
    "collapsed": false,
    "pycharm": {
     "name": "#%%\n"
    }
   }
  },
  {
   "cell_type": "markdown",
   "source": [
    "### More convenient way -- Generators"
   ],
   "metadata": {
    "collapsed": false,
    "pycharm": {
     "name": "#%% md\n"
    }
   }
  },
  {
   "cell_type": "code",
   "execution_count": 17,
   "outputs": [],
   "source": [
    "def Myange(start, stop):\n",
    "    while start < stop:\n",
    "        yield start\n",
    "        start += 1"
   ],
   "metadata": {
    "collapsed": false,
    "pycharm": {
     "name": "#%%\n"
    }
   }
  },
  {
   "cell_type": "code",
   "execution_count": 18,
   "outputs": [
    {
     "name": "stdout",
     "output_type": "stream",
     "text": [
      "started\n",
      "42\n",
      "yielded once\n",
      "43\n",
      "yielded twice, done\n"
     ]
    }
   ],
   "source": [
    "def g():\n",
    "    print(\"started\")\n",
    "    x = 42\n",
    "    yield x # generator paused here, value of x returned\n",
    "    print(\"yielded once\")\n",
    "    x += 1\n",
    "    yield x # generator paused here, value of x returned\n",
    "    print(\"yielded twice, done\")\n",
    "    # finished, raised StopIteration\n",
    "\n",
    "it = g()\n",
    "\n",
    "for x in it:\n",
    "    print(x)"
   ],
   "metadata": {
    "collapsed": false,
    "pycharm": {
     "name": "#%%\n"
    }
   }
  },
  {
   "cell_type": "markdown",
   "source": [
    "## Applications\n",
    "all is lazy"
   ],
   "metadata": {
    "collapsed": false,
    "pycharm": {
     "name": "#%% md\n"
    }
   }
  },
  {
   "cell_type": "code",
   "execution_count": 20,
   "outputs": [],
   "source": [
    "def MyUnique(xs):\n",
    "    seen = set()\n",
    "    for item in xs:\n",
    "        if item in seen:\n",
    "            continue\n",
    "        seen.add(item)\n",
    "        yield item\n",
    "\n",
    "xs = [1, 1, 2, 3, 1]\n",
    "assert list(MyUnique(xs)) == [1, 2, 3]"
   ],
   "metadata": {
    "collapsed": false,
    "pycharm": {
     "name": "#%%\n"
    }
   }
  },
  {
   "cell_type": "code",
   "execution_count": 22,
   "outputs": [],
   "source": [
    "def MyMap(func, xs, *rest):\n",
    "    for args in zip(xs, *rest):\n",
    "        yield func(*args)\n",
    "\n",
    "xs = [1, 2, 3, 4]\n",
    "\n",
    "assert list(MyMap(lambda  x: x * x, xs)) == [1, 4, 9, 16]"
   ],
   "metadata": {
    "collapsed": false,
    "pycharm": {
     "name": "#%%\n"
    }
   }
  },
  {
   "cell_type": "code",
   "execution_count": 24,
   "outputs": [],
   "source": [
    "def chain(*xss):\n",
    "    for xs in xss:\n",
    "        for item in xs:\n",
    "            yield item"
   ],
   "metadata": {
    "collapsed": false,
    "pycharm": {
     "name": "#%%\n"
    }
   }
  },
  {
   "cell_type": "code",
   "execution_count": 25,
   "outputs": [],
   "source": [
    "#another way\n",
    "def chain(*xss):\n",
    "    for xs in xss:\n",
    "        yield from xs #special operator\n",
    "xs = [1, 2, 3]\n",
    "ys = [92]\n",
    "\n",
    "assert list(chain(xs, ys)) == [1, 2, 3, 92]"
   ],
   "metadata": {
    "collapsed": false,
    "pycharm": {
     "name": "#%%\n"
    }
   }
  },
  {
   "cell_type": "code",
   "execution_count": 26,
   "outputs": [],
   "source": [
    "def count(start=0):\n",
    "    while True: # infinite generator!\n",
    "        yield start\n",
    "        start += 1"
   ],
   "metadata": {
    "collapsed": false,
    "pycharm": {
     "name": "#%%\n"
    }
   }
  },
  {
   "cell_type": "code",
   "execution_count": 27,
   "outputs": [],
   "source": [
    "## iterate through the Binary tree\n",
    "class BinaryTree:\n",
    "    def __init__(self, value, left=None, right=None):\n",
    "        self.value = value\n",
    "        self.left = left\n",
    "        self.right = right\n",
    "\n",
    "    def __iter__(self):\n",
    "        return self.pre_order\n",
    "\n",
    "    @property\n",
    "    def pre_order(self):\n",
    "        yield self\n",
    "        if self.left:\n",
    "            yield from self.left\n",
    "        if self.right:\n",
    "            yield from self.right\n",
    "\n",
    "    @property\n",
    "    def post_order(self):\n",
    "        pass"
   ],
   "metadata": {
    "collapsed": false,
    "pycharm": {
     "name": "#%%\n"
    }
   }
  },
  {
   "cell_type": "markdown",
   "source": [
    "### Generators-statements"
   ],
   "metadata": {
    "collapsed": false,
    "pycharm": {
     "name": "#%% md\n"
    }
   }
  },
  {
   "cell_type": "code",
   "execution_count": 29,
   "outputs": [
    {
     "data": {
      "text/plain": "<map at 0x24d457ff348>"
     },
     "execution_count": 29,
     "metadata": {},
     "output_type": "execute_result"
    }
   ],
   "source": [
    "map(lambda x: x * x, xs)"
   ],
   "metadata": {
    "collapsed": false,
    "pycharm": {
     "name": "#%%\n"
    }
   }
  },
  {
   "cell_type": "code",
   "execution_count": 30,
   "outputs": [
    {
     "data": {
      "text/plain": "<generator object <genexpr> at 0x0000024D461DCF48>"
     },
     "execution_count": 30,
     "metadata": {},
     "output_type": "execute_result"
    }
   ],
   "source": [
    "(x * x for x in xs)\n"
   ],
   "metadata": {
    "collapsed": false,
    "pycharm": {
     "name": "#%%\n"
    }
   }
  },
  {
   "cell_type": "code",
   "execution_count": 33,
   "outputs": [
    {
     "data": {
      "text/plain": "285"
     },
     "execution_count": 33,
     "metadata": {},
     "output_type": "execute_result"
    }
   ],
   "source": [
    "sum(x**2 for x in range(10)) # no ()"
   ],
   "metadata": {
    "collapsed": false,
    "pycharm": {
     "name": "#%%\n"
    }
   }
  },
  {
   "cell_type": "code",
   "execution_count": 36,
   "outputs": [
    {
     "data": {
      "text/plain": "<map at 0x24d45ded748>"
     },
     "execution_count": 36,
     "metadata": {},
     "output_type": "execute_result"
    }
   ],
   "source": [
    "map(lambda s: len(s), [\"\", \"a\", \"foo\"]) # :(\n"
   ],
   "metadata": {
    "collapsed": false,
    "pycharm": {
     "name": "#%%\n"
    }
   }
  },
  {
   "cell_type": "code",
   "execution_count": 37,
   "outputs": [
    {
     "data": {
      "text/plain": "<map at 0x24d457479c8>"
     },
     "execution_count": 37,
     "metadata": {},
     "output_type": "execute_result"
    }
   ],
   "source": [
    "map(len, [\"\", \"a\", \"foo\"]) # ok!"
   ],
   "metadata": {
    "collapsed": false,
    "pycharm": {
     "name": "#%%\n"
    }
   }
  },
  {
   "cell_type": "markdown",
   "source": [
    "## itertools"
   ],
   "metadata": {
    "collapsed": false,
    "pycharm": {
     "name": "#%% md\n"
    }
   }
  },
  {
   "cell_type": "code",
   "execution_count": 39,
   "outputs": [],
   "source": [
    "from itertools import islice\n",
    "\n",
    "xs = range(10)\n",
    "\n",
    "assert list(islice(xs, 2, 8, 3)) == [2, 5]\n",
    "# islice is lazy"
   ],
   "metadata": {
    "collapsed": false,
    "pycharm": {
     "name": "#%%\n"
    }
   }
  },
  {
   "cell_type": "code",
   "execution_count": 40,
   "outputs": [
    {
     "data": {
      "text/plain": "4500000000"
     },
     "execution_count": 40,
     "metadata": {},
     "output_type": "execute_result"
    }
   ],
   "source": [
    "sum(range(0, 10**9, 10**8)) # fast\n",
    "\n",
    "sum(islice(range(10**9), 0, None, 10**8)) # slow"
   ],
   "metadata": {
    "collapsed": false,
    "pycharm": {
     "name": "#%%\n"
    }
   }
  },
  {
   "cell_type": "code",
   "execution_count": 41,
   "outputs": [],
   "source": [
    "\n",
    "from itertools import islice\n",
    "\n",
    "def take(n, xs):\n",
    "    return list(islice(xs, 0, n))"
   ],
   "metadata": {
    "collapsed": false,
    "pycharm": {
     "name": "#%%\n"
    }
   }
  },
  {
   "cell_type": "code",
   "execution_count": 43,
   "outputs": [],
   "source": [
    "from itertools import count, cycle, repeat, islice\n",
    "\n",
    "assert take(3 , count(start=1, step=2)) == [1, 3, 5]\n",
    "assert take(3, cycle([\"loves\", \"doesn't love\"])) == [\"loves\", \"doesn't love\", \"loves\"]\n",
    "assert take(3, repeat(92)) == list(repeat(92, times=3))"
   ],
   "metadata": {
    "collapsed": false,
    "pycharm": {
     "name": "#%%\n"
    }
   }
  },
  {
   "cell_type": "code",
   "execution_count": 45,
   "outputs": [],
   "source": [
    "from itertools import dropwhile, takewhile\n",
    "\n",
    "assert list(dropwhile(lambda x: x < 5, range(10))) == [5, 6, 7, 8, 9]"
   ],
   "metadata": {
    "collapsed": false,
    "pycharm": {
     "name": "#%%\n"
    }
   }
  },
  {
   "cell_type": "code",
   "execution_count": 67,
   "outputs": [],
   "source": [
    "from itertools import chain\n",
    "\n",
    "assert list(chain(range(2), \"abc\")) == [0, 1, \"a\", \"b\", \"c\"]\n",
    "\n",
    "xs = [range(0, i) for i in range(5)]\n",
    "assert list(chain(*xs)) == list(chain.from_iterable(xs)) == [0, 0, 1, 0, 1, 2, 0, 1, 2, 3]\n",
    "# chain.from_iterable() is for infinite iterables"
   ],
   "metadata": {
    "collapsed": false,
    "pycharm": {
     "name": "#%%\n"
    }
   }
  },
  {
   "cell_type": "code",
   "execution_count": 68,
   "outputs": [],
   "source": [
    "from itertools import chain, count, islice\n",
    "\n",
    "xs = (range(0, i) for i in count())\n",
    "\n",
    "assert sum(chain.from_iterable(islice(xs, 1000))) == 166167000"
   ],
   "metadata": {
    "collapsed": false,
    "pycharm": {
     "name": "#%%\n"
    }
   }
  },
  {
   "cell_type": "code",
   "execution_count": 75,
   "outputs": [],
   "source": [
    "it = iter(range(3))\n",
    "\n",
    "a = b = it\n",
    "assert list(a) == [0, 1, 2]\n",
    "\n",
    "assert list(b) == []"
   ],
   "metadata": {
    "collapsed": false,
    "pycharm": {
     "name": "#%%\n"
    }
   }
  },
  {
   "cell_type": "code",
   "execution_count": 76,
   "outputs": [],
   "source": [
    "from itertools import tee\n",
    "\n",
    "it = iter(range(3))\n",
    "\n",
    "a, b, c = tee(it, 3)\n",
    "assert list(a) == list(b) == list(c) == [0, 1, 2]\n",
    "# O(N) tee saves list of observed iterators"
   ],
   "metadata": {
    "collapsed": false,
    "pycharm": {
     "name": "#%%\n"
    }
   }
  },
  {
   "cell_type": "code",
   "execution_count": 77,
   "outputs": [],
   "source": [
    "from itertools import product, combinations, permutations\n",
    "from itertools import combinations_with_replacement\n",
    "\n",
    "assert list(product(\"AB\", repeat=2)) == [(\"A\", \"A\"), (\"A\", \"B\"), (\"B\", \"A\"), (\"B\", \"B\")]\n",
    "\n",
    "for x in range(3):\n",
    "    for y in range(5):\n",
    "        pass\n",
    "\n",
    "\n",
    "#same as\n",
    "\n",
    "for x,y in combinations(range(5), 2):\n",
    "    pass"
   ],
   "metadata": {
    "collapsed": false,
    "pycharm": {
     "name": "#%%\n"
    }
   }
  },
  {
   "cell_type": "markdown",
   "source": [
    "### Example : graph"
   ],
   "metadata": {
    "collapsed": false,
    "pycharm": {
     "name": "#%% md\n"
    }
   }
  },
  {
   "cell_type": "code",
   "execution_count": 83,
   "outputs": [],
   "source": [
    "from itertools import combinations\n",
    "\n",
    "def build_graph(words, mismatch_percent):\n",
    "    for (i, u), (j,v) in combinations(enumerate(words), 2):\n",
    "        if len(u) != len(v):\n",
    "            continue\n",
    "\n"
   ],
   "metadata": {
    "collapsed": false,
    "pycharm": {
     "name": "#%%\n"
    }
   }
  },
  {
   "cell_type": "code",
   "execution_count": 84,
   "outputs": [
    {
     "name": "stdout",
     "output_type": "stream",
     "text": [
      "< 3\n",
      "> 2\n",
      "< 1\n",
      "> 1\n"
     ]
    }
   ],
   "source": [
    "from itertools import groupby\n",
    "\n",
    "def sorted_runs(xs):\n",
    "    indices = range(len(xs) - 1)\n",
    "\n",
    "    def is_increasing(idx):\n",
    "        return xs[idx] < xs[idx + 1]\n",
    "\n",
    "    return groupby(indices, is_increasing)\n",
    "\n",
    "xs = [1, 2, 3, 5, 2, 0, 3, 1]\n",
    "\n",
    "for is_increasing, group in sorted_runs(xs):\n",
    "    print(\"<\" if is_increasing else \">\", sum(1 for _ in group))  #  magic O(1)"
   ],
   "metadata": {
    "collapsed": false,
    "pycharm": {
     "name": "#%%\n"
    }
   }
  },
  {
   "cell_type": "markdown",
   "source": [
    "## Generators and IO"
   ],
   "metadata": {
    "collapsed": false,
    "pycharm": {
     "name": "#%% md\n"
    }
   }
  },
  {
   "cell_type": "code",
   "execution_count": 1,
   "outputs": [],
   "source": [
    "from contextlib import ExitStack, AbstractContextManager  # can open n files\n",
    "import heapq\n",
    "\n",
    "def merge_sorted_files(inputs, result):\n",
    "    with open(result, 'w') as result, ExitStack() as stack:\n",
    "        files = [stack.enter_context(open(f)) for f in inputs]\n",
    "        for line in heapq.merge(*files):\n",
    "            result.write(line)\n",
    "\n",
    "#merge_sorted_files([\"10gb.txt\", \"20gb.txt\"]), \"merged.txt\")\n"
   ],
   "metadata": {
    "collapsed": false,
    "pycharm": {
     "name": "#%%\n"
    }
   }
  },
  {
   "cell_type": "markdown",
   "source": [
    "## Generators - pattern"
   ],
   "metadata": {
    "collapsed": false,
    "pycharm": {
     "name": "#%% md\n"
    }
   }
  },
  {
   "cell_type": "code",
   "execution_count": 1,
   "outputs": [],
   "source": [
    "import os\n",
    "# How we wrote a context manager\n",
    "class cd:\n",
    "    def __init__(self, path):\n",
    "        self.path = path\n",
    "\n",
    "    def __enter__(self):\n",
    "        self.saved_cwd = os.getcwd()\n",
    "        os.chdir(self.path)\n",
    "\n",
    "    def __exit__(self, exc_type, exc_val, exc_tb):\n",
    "        os.chdir(self.saved_cwd)\n",
    "\n",
    "\n",
    "#Same code\n",
    "\n",
    "import os\n",
    "from contextlib import contextmanager\n",
    "\n",
    "@contextmanager\n",
    "def cd(path):   # init\n",
    "    old_path = os.getcwd() #__enter__\n",
    "    os.chdir()\n",
    "    try:\n",
    "        yield    # ______________\n",
    "    finally:\n",
    "        os.chdir(old_path)  # __exit__"
   ],
   "metadata": {
    "collapsed": false,
    "pycharm": {
     "name": "#%%\n"
    }
   }
  },
  {
   "cell_type": "markdown",
   "source": [
    "### Temporary folder"
   ],
   "metadata": {
    "collapsed": false,
    "pycharm": {
     "name": "#%% md\n"
    }
   }
  },
  {
   "cell_type": "code",
   "execution_count": 2,
   "outputs": [],
   "source": [
    "import tempfile\n",
    "import shutil\n",
    "\n",
    "@contextmanager\n",
    "def tempdir(): # init\n",
    "    outdir = tempfile.mkdtemp() #__enter__\n",
    "    try:  # how we will catch these exceptions?\n",
    "        yield outdir #------\n",
    "    finally:\n",
    "        shutil.rmtree(outdir) #__exit__"
   ],
   "metadata": {
    "collapsed": false,
    "pycharm": {
     "name": "#%%\n"
    }
   }
  },
  {
   "cell_type": "markdown",
   "source": [
    "## Co-routines"
   ],
   "metadata": {
    "collapsed": false,
    "pycharm": {
     "name": "#%% md\n"
    }
   }
  },
  {
   "cell_type": "code",
   "execution_count": 3,
   "outputs": [],
   "source": [
    "def sum_and_sumsq(it):\n",
    "    s = s2 = 0\n",
    "    for item in it:\n",
    "        s += item\n",
    "        s2 += item*item\n",
    "    return s, s2"
   ],
   "metadata": {
    "collapsed": false,
    "pycharm": {
     "name": "#%%\n"
    }
   }
  },
  {
   "cell_type": "code",
   "execution_count": 4,
   "outputs": [],
   "source": [
    "# what we want to do?\n",
    "\n",
    "import itertools\n",
    "\n",
    "def sum_powers(it, p):\n",
    "    acc = 0\n",
    "    for item in it:\n",
    "        acc += item ** p\n",
    "    return acc\n",
    "\n",
    "def sum_and_sumsq(it):\n",
    "    it1,it2 = itertools.tee(it, 2)\n",
    "    s = s2 = 0\n",
    "    return sum_powers(it1, 1), sum_powers(it2, 2) #  we store all elements because we did not iterate throught the second iterator"
   ],
   "metadata": {
    "collapsed": false,
    "pycharm": {
     "name": "#%%\n"
    }
   }
  },
  {
   "cell_type": "markdown",
   "source": [
    "### Co-Routines"
   ],
   "metadata": {
    "collapsed": false,
    "pycharm": {
     "name": "#%% md\n"
    }
   }
  },
  {
   "cell_type": "code",
   "execution_count": 8,
   "outputs": [
    {
     "name": "stdout",
     "output_type": "stream",
     "text": [
      "92\n"
     ]
    }
   ],
   "source": [
    "def printer():\n",
    "    while True:\n",
    "        item = yield #we can pass elements to iterator\n",
    "        print(item)\n",
    "\n",
    "p = printer()\n",
    "\n",
    "p.send(None) # next(p)\n",
    "p.send(92)"
   ],
   "metadata": {
    "collapsed": false,
    "pycharm": {
     "name": "#%%\n"
    }
   }
  },
  {
   "cell_type": "code",
   "execution_count": 13,
   "outputs": [
    {
     "data": {
      "text/plain": "0"
     },
     "execution_count": 13,
     "metadata": {},
     "output_type": "execute_result"
    }
   ],
   "source": [
    "def running_sum():\n",
    "    acc = 0\n",
    "    while True:\n",
    "        acc += yield acc\n",
    "\n",
    "s = running_sum()\n",
    "s.send(None) #we should send None first every time"
   ],
   "metadata": {
    "collapsed": false,
    "pycharm": {
     "name": "#%%\n"
    }
   }
  },
  {
   "cell_type": "code",
   "execution_count": 14,
   "outputs": [
    {
     "data": {
      "text/plain": "1"
     },
     "execution_count": 14,
     "metadata": {},
     "output_type": "execute_result"
    }
   ],
   "source": [
    "s.send(1)"
   ],
   "metadata": {
    "collapsed": false,
    "pycharm": {
     "name": "#%%\n"
    }
   }
  },
  {
   "cell_type": "code",
   "execution_count": 15,
   "outputs": [
    {
     "data": {
      "text/plain": "2"
     },
     "execution_count": 15,
     "metadata": {},
     "output_type": "execute_result"
    }
   ],
   "source": [
    "s.send(1)\n",
    "\n"
   ],
   "metadata": {
    "collapsed": false,
    "pycharm": {
     "name": "#%%\n"
    }
   }
  },
  {
   "cell_type": "code",
   "execution_count": 16,
   "outputs": [
    {
     "data": {
      "text/plain": "3"
     },
     "execution_count": 16,
     "metadata": {},
     "output_type": "execute_result"
    }
   ],
   "source": [
    "s.send(1)\n"
   ],
   "metadata": {
    "collapsed": false,
    "pycharm": {
     "name": "#%%\n"
    }
   }
  },
  {
   "cell_type": "code",
   "execution_count": 18,
   "outputs": [],
   "source": [
    "# then we will write special decorator which will start coroutine (calls next first time)\n",
    "import functools\n",
    "\n",
    "def coroutine(func):\n",
    "    @functools.wraps(func)\n",
    "    def inner(*args, **kwargs):\n",
    "        gen = func(*args, **kwargs)\n",
    "        next(gen)\n",
    "        return gen\n",
    "\n",
    "    return inner\n"
   ],
   "metadata": {
    "collapsed": false,
    "pycharm": {
     "name": "#%%\n"
    }
   }
  },
  {
   "cell_type": "code",
   "execution_count": 22,
   "outputs": [],
   "source": [
    "@coroutine\n",
    "def logger():\n",
    "    with open(\"output.txt\", 'w') as f:\n",
    "        while True:\n",
    "            item = yield\n",
    "            print(item, file=f)\n",
    "\n",
    "l = logger()\n",
    "l.send(92)\n",
    "del l"
   ],
   "metadata": {
    "collapsed": false,
    "pycharm": {
     "name": "#%%\n"
    }
   }
  },
  {
   "cell_type": "code",
   "execution_count": 23,
   "outputs": [
    {
     "name": "stdout",
     "output_type": "stream",
     "text": [
      "92\n",
      "Cleaning up\n"
     ]
    }
   ],
   "source": [
    "## exception will be thrown if generator has been deleted\n",
    "@coroutine\n",
    "def printer():\n",
    "    try:\n",
    "        while True:\n",
    "            item = yield\n",
    "            print(item)\n",
    "    finally:\n",
    "        print(\"Cleaning up\")\n",
    "\n",
    "p = printer()\n",
    "p.send(92)\n",
    "p.close() #cleaning up\n",
    "\n"
   ],
   "metadata": {
    "collapsed": false,
    "pycharm": {
     "name": "#%%\n"
    }
   }
  },
  {
   "cell_type": "code",
   "execution_count": 25,
   "outputs": [],
   "source": [
    "# so we will rewrite our coroutine for sum of powers\n",
    "@coroutine\n",
    "def sum_powers_coro(p):\n",
    "    acc = 0\n",
    "    while True:\n",
    "        item = yield #yield is the result of send\n",
    "        acc += item ** p"
   ],
   "metadata": {
    "collapsed": false,
    "pycharm": {
     "name": "#%%\n"
    }
   }
  },
  {
   "cell_type": "code",
   "execution_count": 26,
   "outputs": [],
   "source": [
    "#How we will print the result?\n",
    "STOP = object()\n",
    "\n",
    "@coroutine\n",
    "def sum_powers_coro(p):\n",
    "    acc = 0\n",
    "    while True:\n",
    "        item = yield\n",
    "        if item is STOP:\n",
    "            return acc # throw exception stopiteration\n",
    "        acc += item ** p\n",
    "\n",
    "def result(coro):\n",
    "    try:\n",
    "        coro.send(STOP)\n",
    "    except StopIteration as e:\n",
    "        return e.value  # acc will be written to e.value"
   ],
   "metadata": {
    "collapsed": false,
    "pycharm": {
     "name": "#%%\n"
    }
   }
  },
  {
   "cell_type": "code",
   "execution_count": 28,
   "outputs": [],
   "source": [
    "def sum_and_sumsq(it):\n",
    "    s = sum_powers_coro(p=1)\n",
    "    s2 = sum_powers_coro(p=2)\n",
    "    for item in it:\n",
    "        s.send(item)\n",
    "        s2.send(item)\n",
    "    return result(s), result(s2)\n",
    "\n",
    "\n",
    "assert sum_and_sumsq(iter(range(10))) == (45, 285)"
   ],
   "metadata": {
    "collapsed": false,
    "pycharm": {
     "name": "#%%\n"
    }
   }
  },
  {
   "cell_type": "code",
   "execution_count": 30,
   "outputs": [],
   "source": [
    "from contextlib import AbstractContextManager\n",
    "# how it is implemented?\n",
    "\n",
    "class Manager(AbstractContextManager):\n",
    "    def __init__(self, co):\n",
    "        self._co = co\n",
    "    def __enter__(self):\n",
    "        return next(self._co)\n",
    "\n",
    "    def __exit__(self, exc_type, exc_val, exc_tb):\n",
    "        if exc_val is not None:\n",
    "            try:\n",
    "                self._co.throw(exc_val)\n",
    "            except StopIteration:\n",
    "                pass\n",
    "        self._co.close()\n",
    "        return True\n",
    "\n",
    "\n",
    "def contextmanager(f):\n",
    "    def inner(*args, **kwargs):\n",
    "        return Manager(f(*args, **kwargs))\n",
    "\n",
    "    return inner"
   ],
   "metadata": {
    "collapsed": false,
    "pycharm": {
     "name": "#%%\n"
    }
   }
  },
  {
   "cell_type": "markdown",
   "source": [
    "* send, throw, close -- can send values or exceptions to generator\n",
    "* __next__ -- is .send(None)\n",
    "* generators > iterators\n",
    "\n",
    "Coroutine is a function which we can call several times and return values several times"
   ],
   "metadata": {
    "collapsed": false,
    "pycharm": {
     "name": "#%% md\n"
    }
   }
  },
  {
   "cell_type": "code",
   "execution_count": null,
   "outputs": [],
   "source": [],
   "metadata": {
    "collapsed": false,
    "pycharm": {
     "name": "#%%\n"
    }
   }
  }
 ],
 "metadata": {
  "kernelspec": {
   "display_name": "Python 3",
   "language": "python",
   "name": "python3"
  },
  "language_info": {
   "codemirror_mode": {
    "name": "ipython",
    "version": 2
   },
   "file_extension": ".py",
   "mimetype": "text/x-python",
   "name": "python",
   "nbconvert_exporter": "python",
   "pygments_lexer": "ipython2",
   "version": "2.7.6"
  }
 },
 "nbformat": 4,
 "nbformat_minor": 0
}