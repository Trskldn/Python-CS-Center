{
 "cells": [
  {
   "cell_type": "markdown",
   "metadata": {
    "collapsed": true,
    "pycharm": {
     "name": "#%% md\n"
    }
   },
   "source": [
    "# Lecture 2. Functions"
   ]
  },
  {
   "cell_type": "code",
   "execution_count": 1,
   "outputs": [
    {
     "name": "stdout",
     "text": [
      "  2           0 LOAD_CONST               0 (<code object foo at 0x00000240917DAA50, file \"dummy_data/sample.py\", line 2>)\n",
      "              2 LOAD_CONST               1 ('foo')\n",
      "              4 MAKE_FUNCTION            0\n",
      "              6 STORE_NAME               0 (foo)\n",
      "\n",
      "  5           8 LOAD_NAME                0 (foo)\n",
      "             10 CALL_FUNCTION            0\n",
      "             12 POP_TOP\n",
      "             14 LOAD_CONST               2 (None)\n",
      "             16 RETURN_VALUE\n",
      "\n",
      "Disassembly of <code object foo at 0x00000240917DAA50, file \"dummy_data/sample.py\", line 2>:\n",
      "  4           0 LOAD_CONST               1 (92)\n",
      "              2 RETURN_VALUE\n"
     ],
     "output_type": "stream"
    }
   ],
   "source": [
    "def create_sample_py_file(code, file_path):\n",
    "    f = open(file_path, \"w+\")\n",
    "    f.write(code)\n",
    "    f.flush()\n",
    "    f.close()\n",
    "path = \"dummy_data/sample.py\"\n",
    "sample_code = \\\n",
    "'''\n",
    "def foo():\n",
    "    \"\"\"I do nothing and return 92.\"\"\"\n",
    "    return 92\n",
    "foo()\n",
    "'''\n",
    "create_sample_py_file(sample_code, path)\n",
    "!python -m dis $path"
   ],
   "metadata": {
    "collapsed": false,
    "pycharm": {
     "name": "#%%\n",
     "is_executing": false
    }
   }
  },
  {
   "cell_type": "code",
   "execution_count": 3,
   "outputs": [
    {
     "name": "stdout",
     "text": [
      "foo\n",
      "I do nothing and return 92.\n",
      "Help on function foo in module __main__:\n",
      "\n",
      "foo()\n",
      "    I do nothing and return 92.\n",
      "\n"
     ],
     "output_type": "stream"
    }
   ],
   "source": [
    "def foo():\n",
    "    \"\"\"I do nothing and return 92.\"\"\"\n",
    "    return 92\n",
    "\n",
    "print(foo.__name__)\n",
    "print(foo.__doc__)\n",
    "help(foo)"
   ],
   "metadata": {
    "collapsed": false,
    "pycharm": {
     "name": "#%%\n",
     "is_executing": false
    }
   }
  },
  {
   "cell_type": "code",
   "execution_count": 5,
   "outputs": [
    {
     "data": {
      "text/plain": "1"
     },
     "metadata": {},
     "output_type": "execute_result",
     "execution_count": 5
    }
   ],
   "source": [
    "def min(x, y):\n",
    "    return  x if x < y else y\n",
    "min(1, 2)\n",
    "min(1, y=2)\n",
    "min(x=1, y=2)\n",
    "min(y=2, x=1)"
   ],
   "metadata": {
    "collapsed": false,
    "pycharm": {
     "name": "#%%\n",
     "is_executing": false
    }
   }
  },
  {
   "cell_type": "code",
   "execution_count": 8,
   "outputs": [
    {
     "name": "stdout",
     "text": [
      "10\n",
      "inf\n",
      "1\n"
     ],
     "output_type": "stream"
    }
   ],
   "source": [
    "# take any numbet of arguments\n",
    "def min(*args): # type(args) => <class 'tuple'>\n",
    "    \n",
    "    res = float('inf')\n",
    "    for x in args:\n",
    "        res = x if x < res else res\n",
    "    return res\n",
    "print(min(92, 10, 62))\n",
    "print(min())\n",
    "xs = [1, 2, 3]\n",
    "print(min(*xs))\n"
   ],
   "metadata": {
    "collapsed": false,
    "pycharm": {
     "name": "#%%\n",
     "is_executing": false
    }
   }
  },
  {
   "cell_type": "code",
   "execution_count": 9,
   "outputs": [],
   "source": [
    "# take at least 1 argument\n",
    "def min(first, *rest):\n",
    "    res = first\n",
    "    for x in rest:\n",
    "        res = x if x < res else res\n",
    "    return res\n"
   ],
   "metadata": {
    "collapsed": false,
    "pycharm": {
     "name": "#%%\n",
     "is_executing": false
    }
   }
  },
  {
   "cell_type": "code",
   "execution_count": 11,
   "outputs": [
    {
     "data": {
      "text/plain": "1"
     },
     "metadata": {},
     "output_type": "execute_result",
     "execution_count": 11
    }
   ],
   "source": [
    "def min(*args, default=None): # type(args) => <class 'tuple'>\n",
    "    if not args:\n",
    "        return default\n",
    "    res, *rest = args\n",
    "    for x in rest:\n",
    "        res = x if x < res else res\n",
    "    return res\n",
    "\n",
    "min(*xs, default=0)"
   ],
   "metadata": {
    "collapsed": false,
    "pycharm": {
     "name": "#%%\n",
     "is_executing": false
    }
   }
  },
  {
   "cell_type": "code",
   "execution_count": 15,
   "outputs": [
    {
     "name": "stdout",
     "text": [
      "  2           0 BUILD_LIST               0\n",
      "              2 LOAD_CONST               0 (92)\n",
      "              4 BUILD_TUPLE              2\n",
      "              6 LOAD_CONST               1 (<code object foo at 0x0000021E9034AA50, file \"dummy_data/default.py\", line 2>)\n",
      "              8 LOAD_CONST               2 ('foo')\n",
      "             10 MAKE_FUNCTION            1\n",
      "             12 STORE_NAME               0 (foo)\n",
      "             14 LOAD_CONST               3 (None)\n",
      "             16 RETURN_VALUE\n",
      "\n",
      "Disassembly of <code object foo at 0x0000021E9034AA50, file \"dummy_data/default.py\", line 2>:\n",
      "  3           0 LOAD_CONST               0 (None)\n",
      "              2 RETURN_VALUE\n"
     ],
     "output_type": "stream"
    }
   ],
   "source": [
    "path = \"dummy_data/default.py\"\n",
    "sample_code = \\\n",
    "'''\n",
    "def foo(x=[], y=92):\n",
    "    pass\n",
    "'''\n",
    "create_sample_py_file(sample_code, path)\n",
    "!python -m dis $path\n"
   ],
   "metadata": {
    "collapsed": false,
    "pycharm": {
     "name": "#%%\n",
     "is_executing": false
    }
   }
  },
  {
   "cell_type": "markdown",
   "source": [
    "Use if you want to make  keyword argument mandatory"
   ],
   "metadata": {
    "collapsed": false,
    "pycharm": {
     "name": "#%% md\n"
    }
   }
  },
  {
   "cell_type": "code",
   "execution_count": 21,
   "outputs": [],
   "source": [
    "def foo(arg1, arg2, *, mandatory_named=True):\n",
    "    pass\n",
    "\n",
    "\n",
    "foo(1,2, mandatory_named=True)\n",
    "#foo(1,2, True) # error\n"
   ],
   "metadata": {
    "collapsed": false,
    "pycharm": {
     "name": "#%%\n",
     "is_executing": false
    }
   }
  },
  {
   "cell_type": "code",
   "execution_count": 23,
   "outputs": [
    {
     "name": "stdout",
     "text": [
      "(1, 2)\n",
      "{'a': 3, 'b': 4}\n"
     ],
     "output_type": "stream"
    }
   ],
   "source": [
    "def call_me(*args, **kwargs):\n",
    "    return args, kwargs\n",
    "(args, kwargs) = call_me(1, 2, a=3, b=4)\n",
    "print(args)\n",
    "print(kwargs)"
   ],
   "metadata": {
    "collapsed": false,
    "pycharm": {
     "name": "#%%\n",
     "is_executing": false
    }
   }
  },
  {
   "cell_type": "code",
   "execution_count": 24,
   "outputs": [
    {
     "name": "stdout",
     "text": [
      "((), {'a': 92})\n"
     ],
     "output_type": "stream"
    }
   ],
   "source": [
    "print(call_me(**{\"a\": 92}))\n",
    "\n"
   ],
   "metadata": {
    "collapsed": false,
    "pycharm": {
     "name": "#%%\n",
     "is_executing": false
    }
   }
  },
  {
   "cell_type": "markdown",
   "source": [
    "## Unpacking"
   ],
   "metadata": {
    "collapsed": false,
    "pycharm": {
     "name": "#%% md\n"
    }
   }
  },
  {
   "cell_type": "code",
   "execution_count": 26,
   "outputs": [
    {
     "name": "stdout",
     "text": [
      "1 [2, 3]\n",
      "1 ['2', '3']\n"
     ],
     "output_type": "stream"
    }
   ],
   "source": [
    "x, *xs = [1, 2, 3]\n",
    "print(x, xs)\n",
    "x, *xs = \"123\"\n",
    "print(x, xs)"
   ],
   "metadata": {
    "collapsed": false,
    "pycharm": {
     "name": "#%%\n",
     "is_executing": false
    }
   }
  },
  {
   "cell_type": "code",
   "execution_count": 28,
   "outputs": [
    {
     "name": "stdout",
     "text": [
      "1 [2] 3\n",
      "3\n"
     ],
     "output_type": "stream"
    }
   ],
   "source": [
    "first, *rest, last = [1, 2, 3]\n",
    "\n",
    "print(first, rest, last)\n",
    "\n",
    "rectangle = ((0, 0), (2, 3))\n",
    "(x1, y1), (x2, y2) = rectangle\n",
    "print(y2)"
   ],
   "metadata": {
    "collapsed": false,
    "pycharm": {
     "name": "#%%\n",
     "is_executing": false
    }
   }
  },
  {
   "cell_type": "code",
   "execution_count": 34,
   "outputs": [
    {
     "traceback": [
      "\u001b[1;31m---------------------------------------------------------------------------\u001b[0m",
      "\u001b[1;31mValueError\u001b[0m                                Traceback (most recent call last)",
      "\u001b[1;32m<ipython-input-34-277e399dd52c>\u001b[0m in \u001b[0;36m<module>\u001b[1;34m\u001b[0m\n\u001b[0;32m      6\u001b[0m \"\"\"\n\u001b[0;32m      7\u001b[0m \u001b[1;32mfor\u001b[0m \u001b[0mline\u001b[0m \u001b[1;32min\u001b[0m \u001b[0mtext\u001b[0m\u001b[1;33m.\u001b[0m\u001b[0msplitlines\u001b[0m\u001b[1;33m(\u001b[0m\u001b[1;33m)\u001b[0m\u001b[1;33m:\u001b[0m\u001b[1;33m\u001b[0m\u001b[1;33m\u001b[0m\u001b[0m\n\u001b[1;32m----> 8\u001b[1;33m     \u001b[0mname\u001b[0m\u001b[1;33m,\u001b[0m \u001b[0mprice\u001b[0m\u001b[1;33m,\u001b[0m \u001b[0m_\u001b[0m \u001b[1;33m=\u001b[0m \u001b[0mline\u001b[0m\u001b[1;33m.\u001b[0m\u001b[0msplit\u001b[0m\u001b[1;33m(\u001b[0m\u001b[1;34m','\u001b[0m\u001b[1;33m)\u001b[0m\u001b[1;33m\u001b[0m\u001b[1;33m\u001b[0m\u001b[0m\n\u001b[0m\u001b[0;32m      9\u001b[0m     \u001b[0md\u001b[0m\u001b[1;33m[\u001b[0m\u001b[0mname\u001b[0m\u001b[1;33m]\u001b[0m \u001b[1;33m=\u001b[0m \u001b[0mprice\u001b[0m\u001b[1;33m\u001b[0m\u001b[1;33m\u001b[0m\u001b[0m\n\u001b[0;32m     10\u001b[0m \u001b[1;33m\u001b[0m\u001b[0m\n",
      "\u001b[1;31mValueError\u001b[0m: not enough values to unpack (expected 3, got 1)"
     ],
     "ename": "ValueError",
     "evalue": "not enough values to unpack (expected 3, got 1)",
     "output_type": "error"
    }
   ],
   "source": [
    "d = {}\n",
    "text = \"\"\"\n",
    "Apple,12,10\n",
    "Orange,24,20\n",
    "\"\"\"\n",
    "for line in text.splitlines():\n",
    "    name, price, _ = line.split(',')\n",
    "    d[name] = price\n",
    "    \n",
    "print(d)"
   ],
   "metadata": {
    "collapsed": false,
    "pycharm": {
     "name": "#%%\n",
     "is_executing": false
    }
   }
  },
  {
   "cell_type": "code",
   "execution_count": 35,
   "outputs": [
    {
     "name": "stdout",
     "text": [
      "1 2 3\n",
      "{'X': 1, 'Y': 2, 'Z': 3}\n"
     ],
     "output_type": "stream"
    }
   ],
   "source": [
    "print(*[1], *[2], *[3])\n",
    "print(dict(**{'X': 1}, Y=2, **{'Z':3}))\n"
   ],
   "metadata": {
    "collapsed": false,
    "pycharm": {
     "name": "#%%\n",
     "is_executing": false
    }
   }
  },
  {
   "cell_type": "markdown",
   "source": [
    "## Scope"
   ],
   "metadata": {
    "collapsed": false,
    "pycharm": {
     "name": "#%% md\n"
    }
   }
  },
  {
   "cell_type": "code",
   "execution_count": 39,
   "outputs": [],
   "source": [
    "def is_even(n):\n",
    "    return n == 0 if n <= 1 else is_odd(n-1)\n",
    "# danger zone\n",
    "def is_odd(n):\n",
    "    return n == 1 if n <=1 else is_even(n-1)"
   ],
   "metadata": {
    "collapsed": false,
    "pycharm": {
     "name": "#%% \n",
     "is_executing": false
    }
   }
  },
  {
   "cell_type": "code",
   "execution_count": 42,
   "outputs": [
    {
     "name": "stdout",
     "text": [
      "{'__name__': '__main__', '__doc__': 'Automatically created module for IPython interactive environment', '__package__': None, '__loader__': None, '__spec__': None, '__builtin__': <module 'builtins' (built-in)>, '__builtins__': <module 'builtins' (built-in)>, '_ih': ['', 'def create_sample_py_file(code, file_path):\\n    f = open(file_path, \"w+\")\\n    f.write(code)\\n    f.flush()\\n    f.close()\\npath = \"dummy_data/sample.py\"\\nsample_code = \\\\\\n\\'\\'\\'\\ndef foo():\\n    \"\"\"I do nothing and return 92.\"\"\"\\n    return 92\\nfoo()\\n\\'\\'\\'\\ncreate_sample_py_file(sample_code, path)\\nget_ipython().system(\\'python -m dis $path\\')', 'def foo():\\n    \"\"\"I do nothing and return 92.\"\"\"\\n    return 92\\n\\nprint(foo.__name__)\\nprint(foo.__doc__)', 'def foo():\\n    \"\"\"I do nothing and return 92.\"\"\"\\n    return 92\\n\\nprint(foo.__name__)\\nprint(foo.__doc__)\\nhelp(foo)', 'def min(x, y):\\n    return  x if x < y else y', 'def min(x, y):\\n    return  x if x < y else y\\nmin(1, 2)\\nmin(1, y=2)\\nmin(x=1, y=2)\\nmin(y=2, x=1)', \"def min(*args): # type(args) => <class 'tuple'>\\n    \\n    res = float('inf')\\n    for x in args:\\n        res = x if x < res else res\\n        return res\\nmin(92, 10, 62)\\nmin()\\nxs = [1, 2, 3]\\nmin(*xs)\", \"def min(*args): # type(args) => <class 'tuple'>\\n    \\n    res = float('inf')\\n    for x in args:\\n        res = x if x < res else res\\n        return res\\nprint(min(92, 10, 62))\\nprint(min())\\nxs = [1, 2, 3]\\nprint(min(*xs))\", \"# take any numbet of arguments\\ndef min(*args): # type(args) => <class 'tuple'>\\n    \\n    res = float('inf')\\n    for x in args:\\n        res = x if x < res else res\\n    return res\\nprint(min(92, 10, 62))\\nprint(min())\\nxs = [1, 2, 3]\\nprint(min(*xs))\", '# take at least 1 argument\\ndef min(first, *rest):\\n    res = first\\n    for x in rest:\\n        res = x if x < res else res\\n    return res', \"def min(*args, default=None): # type(args) => <class 'tuple'>\\n    if not args:\\n        return default\\n    res, *rest = args\\n    for x in rest:\\n        res = x if x < res else res\\n    return res\\n\\nmin(xs, default=0)\", \"def min(*args, default=None): # type(args) => <class 'tuple'>\\n    if not args:\\n        return default\\n    res, *rest = args\\n    for x in rest:\\n        res = x if x < res else res\\n    return res\\n\\nmin(*xs, default=0)\", 'path = \"dummy_data/default.py\"\\nsample_code = \\\\\\n\\'\\'\\'\\ndef min(*args, default=None): # type(args) => <class \\'tuple\\'>\\n    if not args:\\n        return default\\n    res, *rest = args\\n    for x in rest:\\n        res = x if x < res else res\\n    return res\\n\\nmin(*xs, default=0)\\n\\'\\'\\'\\ncreate_sample_py_file(sample_code, path)\\nget_ipython().system(\\'python -m dis $path\\')', 'path = \"dummy_data/default.py\"\\nsample_code = \\\\\\n\\'\\'\\'\\nmin(*xs, default=0)\\n\\'\\'\\'\\ncreate_sample_py_file(sample_code, path)\\nget_ipython().system(\\'python -m dis $path\\')', 'path = \"dummy_data/default.py\"\\nsample_code = \\\\\\n\\'\\'\\'\\ndef foo(x=[], y=92)\\n    pass\\n\\'\\'\\'\\ncreate_sample_py_file(sample_code, path)\\nget_ipython().system(\\'python -m dis $path\\')', 'path = \"dummy_data/default.py\"\\nsample_code = \\\\\\n\\'\\'\\'\\ndef foo(x=[], y=92):\\n    pass\\n\\'\\'\\'\\ncreate_sample_py_file(sample_code, path)\\nget_ipython().system(\\'python -m dis $path\\')', 'print(min.__code__)', 'print(min.__code__.co_code)', 'def foo(arg1, arg2, *, mandatory_named=True):\\n    pass\\n\\nfoo(1,2, True)\\n    ', 'def foo(arg1, arg2, *, mandatory_named=True):\\n    pass\\n\\nfoo(1,2, mandatory_named=True)\\n    ', 'def foo(arg1, arg2, *, mandatory_named=True):\\n    pass\\n\\n\\nfoo(1,2, mandatory_named=True)\\n#foo(1,2, True) # error\\n    ', 'def foo(arg1, arg2, *, mandatory_named=True):\\n    pass\\n\\n\\nfoo(1,2, mandatory_named=True)\\n#foo(1,2, True) # error', 'def call_me(*args, **kwargs):\\n    return args, kwargs\\n(args, kwargs) = call_me(1, 2, a=3, b=4)', 'def call_me(*args, **kwargs):\\n    return args, kwargs\\n(args, kwargs) = call_me(1, 2, a=3, b=4)\\nprint(args)\\nprint(kwargs)', 'print(call_me(**{\"a\": 92}))', 'x, *xs = [1, 2, 3]\\nprint(x, xs)', 'x, *xs = [1, 2, 3]\\nprint(x, xs)\\nx, *xs = \"123\"\\nprint(x, xs)', 'first, *rest, last = [1, 2, 3]\\n\\nprint(first, rest, last)', 'first, *rest, last = [1, 2, 3]\\n\\nprint(first, rest, last)\\n\\nrectangle = ((0, 0), (2, 3))\\n(x1, y1), (x2, y2) = rectangle\\nprint(y2)', 'd = {}\\ntext = \"\"\" \\nApple,12,10\\nOrange, 24,20\\n\"\"\"\\nfor line in text.splitlines():\\n    name, price, _ = line.split(\\',\\')\\n    d[name] = price\\n    \\nprint(d)', 'd = {}\\ntext = \"\"\" \\\\\\nApple,12,10\\nOrange,24,20\\\\\\n\"\"\"\\nfor line in text.splitlines():\\n    name, price, _ = line.split(\\',\\')\\n    d[name] = price\\n    \\nprint(d)', 'd = {}\\ntext = \"\"\" \\\\\\nApple,12,10\\nOrange,24,20\\n\"\"\"\\nfor line in text.splitlines():\\n    name, price, _ = line.split(\\',\\')\\n    d[name] = price\\n    \\nprint(d)', 'd = {}\\ntext = \"\"\" \\nApple,12,10\\nOrange,24,20\\n\"\"\"\\nfor line in text.splitlines():\\n    name, price, _ = line.split(\\',\\')\\n    d[name] = price\\n    \\nprint(d)', 'd = {}\\ntext = \"\"\"\\\\\\nApple,12,10\\nOrange,24,20\\n\"\"\"\\nfor line in text.splitlines():\\n    name, price, _ = line.split(\\',\\')\\n    d[name] = price\\n    \\nprint(d)', 'd = {}\\ntext = \\\\\\n\"\"\"\\nApple,12,10\\nOrange,24,20\\n\"\"\"\\nfor line in text.splitlines():\\n    name, price, _ = line.split(\\',\\')\\n    d[name] = price\\n    \\nprint(d)', \"print(*[1], *[2], *[3])\\nprint(dict(**{'X': 1}, Y=2, **{'Z':3}))\", 'def is_even(n):\\n    return n == 0 if n <= 1 else is_odd(n-1)\\n\\ndef is_odd(n):\\n    return n == 1 if n <=1 else is_even(n-1)', 'print(globals())', 'print(globals())\\nprint(locals())', 'x = 1\\n\\ndef is_even(n):\\n    return n == 0 if n <= 1 else is_odd(n-1)\\n# danger zone\\ndef is_odd(n):\\n    return n == 1 if n <=1 else is_even(n-1)', 'print(globals())\\nprint(locals())', 'x = 1\\ndef foo():\\n    y = 2\\n    print(globals())\\n    print(locals())\\nfoo()', 'x = 1\\ndef foo():\\n    y = 2\\n    print(globals(), type(globals()))\\n    print(locals(), type(locals()))\\nfoo()'], '_oh': {5: 1, 6: 1, 10: [1, 2, 3], 11: 1}, '_dh': ['D:\\\\Projects\\\\PyCharm Projects\\\\Python_cs_center'], 'In': ['', 'def create_sample_py_file(code, file_path):\\n    f = open(file_path, \"w+\")\\n    f.write(code)\\n    f.flush()\\n    f.close()\\npath = \"dummy_data/sample.py\"\\nsample_code = \\\\\\n\\'\\'\\'\\ndef foo():\\n    \"\"\"I do nothing and return 92.\"\"\"\\n    return 92\\nfoo()\\n\\'\\'\\'\\ncreate_sample_py_file(sample_code, path)\\nget_ipython().system(\\'python -m dis $path\\')', 'def foo():\\n    \"\"\"I do nothing and return 92.\"\"\"\\n    return 92\\n\\nprint(foo.__name__)\\nprint(foo.__doc__)', 'def foo():\\n    \"\"\"I do nothing and return 92.\"\"\"\\n    return 92\\n\\nprint(foo.__name__)\\nprint(foo.__doc__)\\nhelp(foo)', 'def min(x, y):\\n    return  x if x < y else y', 'def min(x, y):\\n    return  x if x < y else y\\nmin(1, 2)\\nmin(1, y=2)\\nmin(x=1, y=2)\\nmin(y=2, x=1)', \"def min(*args): # type(args) => <class 'tuple'>\\n    \\n    res = float('inf')\\n    for x in args:\\n        res = x if x < res else res\\n        return res\\nmin(92, 10, 62)\\nmin()\\nxs = [1, 2, 3]\\nmin(*xs)\", \"def min(*args): # type(args) => <class 'tuple'>\\n    \\n    res = float('inf')\\n    for x in args:\\n        res = x if x < res else res\\n        return res\\nprint(min(92, 10, 62))\\nprint(min())\\nxs = [1, 2, 3]\\nprint(min(*xs))\", \"# take any numbet of arguments\\ndef min(*args): # type(args) => <class 'tuple'>\\n    \\n    res = float('inf')\\n    for x in args:\\n        res = x if x < res else res\\n    return res\\nprint(min(92, 10, 62))\\nprint(min())\\nxs = [1, 2, 3]\\nprint(min(*xs))\", '# take at least 1 argument\\ndef min(first, *rest):\\n    res = first\\n    for x in rest:\\n        res = x if x < res else res\\n    return res', \"def min(*args, default=None): # type(args) => <class 'tuple'>\\n    if not args:\\n        return default\\n    res, *rest = args\\n    for x in rest:\\n        res = x if x < res else res\\n    return res\\n\\nmin(xs, default=0)\", \"def min(*args, default=None): # type(args) => <class 'tuple'>\\n    if not args:\\n        return default\\n    res, *rest = args\\n    for x in rest:\\n        res = x if x < res else res\\n    return res\\n\\nmin(*xs, default=0)\", 'path = \"dummy_data/default.py\"\\nsample_code = \\\\\\n\\'\\'\\'\\ndef min(*args, default=None): # type(args) => <class \\'tuple\\'>\\n    if not args:\\n        return default\\n    res, *rest = args\\n    for x in rest:\\n        res = x if x < res else res\\n    return res\\n\\nmin(*xs, default=0)\\n\\'\\'\\'\\ncreate_sample_py_file(sample_code, path)\\nget_ipython().system(\\'python -m dis $path\\')', 'path = \"dummy_data/default.py\"\\nsample_code = \\\\\\n\\'\\'\\'\\nmin(*xs, default=0)\\n\\'\\'\\'\\ncreate_sample_py_file(sample_code, path)\\nget_ipython().system(\\'python -m dis $path\\')', 'path = \"dummy_data/default.py\"\\nsample_code = \\\\\\n\\'\\'\\'\\ndef foo(x=[], y=92)\\n    pass\\n\\'\\'\\'\\ncreate_sample_py_file(sample_code, path)\\nget_ipython().system(\\'python -m dis $path\\')', 'path = \"dummy_data/default.py\"\\nsample_code = \\\\\\n\\'\\'\\'\\ndef foo(x=[], y=92):\\n    pass\\n\\'\\'\\'\\ncreate_sample_py_file(sample_code, path)\\nget_ipython().system(\\'python -m dis $path\\')', 'print(min.__code__)', 'print(min.__code__.co_code)', 'def foo(arg1, arg2, *, mandatory_named=True):\\n    pass\\n\\nfoo(1,2, True)\\n    ', 'def foo(arg1, arg2, *, mandatory_named=True):\\n    pass\\n\\nfoo(1,2, mandatory_named=True)\\n    ', 'def foo(arg1, arg2, *, mandatory_named=True):\\n    pass\\n\\n\\nfoo(1,2, mandatory_named=True)\\n#foo(1,2, True) # error\\n    ', 'def foo(arg1, arg2, *, mandatory_named=True):\\n    pass\\n\\n\\nfoo(1,2, mandatory_named=True)\\n#foo(1,2, True) # error', 'def call_me(*args, **kwargs):\\n    return args, kwargs\\n(args, kwargs) = call_me(1, 2, a=3, b=4)', 'def call_me(*args, **kwargs):\\n    return args, kwargs\\n(args, kwargs) = call_me(1, 2, a=3, b=4)\\nprint(args)\\nprint(kwargs)', 'print(call_me(**{\"a\": 92}))', 'x, *xs = [1, 2, 3]\\nprint(x, xs)', 'x, *xs = [1, 2, 3]\\nprint(x, xs)\\nx, *xs = \"123\"\\nprint(x, xs)', 'first, *rest, last = [1, 2, 3]\\n\\nprint(first, rest, last)', 'first, *rest, last = [1, 2, 3]\\n\\nprint(first, rest, last)\\n\\nrectangle = ((0, 0), (2, 3))\\n(x1, y1), (x2, y2) = rectangle\\nprint(y2)', 'd = {}\\ntext = \"\"\" \\nApple,12,10\\nOrange, 24,20\\n\"\"\"\\nfor line in text.splitlines():\\n    name, price, _ = line.split(\\',\\')\\n    d[name] = price\\n    \\nprint(d)', 'd = {}\\ntext = \"\"\" \\\\\\nApple,12,10\\nOrange,24,20\\\\\\n\"\"\"\\nfor line in text.splitlines():\\n    name, price, _ = line.split(\\',\\')\\n    d[name] = price\\n    \\nprint(d)', 'd = {}\\ntext = \"\"\" \\\\\\nApple,12,10\\nOrange,24,20\\n\"\"\"\\nfor line in text.splitlines():\\n    name, price, _ = line.split(\\',\\')\\n    d[name] = price\\n    \\nprint(d)', 'd = {}\\ntext = \"\"\" \\nApple,12,10\\nOrange,24,20\\n\"\"\"\\nfor line in text.splitlines():\\n    name, price, _ = line.split(\\',\\')\\n    d[name] = price\\n    \\nprint(d)', 'd = {}\\ntext = \"\"\"\\\\\\nApple,12,10\\nOrange,24,20\\n\"\"\"\\nfor line in text.splitlines():\\n    name, price, _ = line.split(\\',\\')\\n    d[name] = price\\n    \\nprint(d)', 'd = {}\\ntext = \\\\\\n\"\"\"\\nApple,12,10\\nOrange,24,20\\n\"\"\"\\nfor line in text.splitlines():\\n    name, price, _ = line.split(\\',\\')\\n    d[name] = price\\n    \\nprint(d)', \"print(*[1], *[2], *[3])\\nprint(dict(**{'X': 1}, Y=2, **{'Z':3}))\", 'def is_even(n):\\n    return n == 0 if n <= 1 else is_odd(n-1)\\n\\ndef is_odd(n):\\n    return n == 1 if n <=1 else is_even(n-1)', 'print(globals())', 'print(globals())\\nprint(locals())', 'x = 1\\n\\ndef is_even(n):\\n    return n == 0 if n <= 1 else is_odd(n-1)\\n# danger zone\\ndef is_odd(n):\\n    return n == 1 if n <=1 else is_even(n-1)', 'print(globals())\\nprint(locals())', 'x = 1\\ndef foo():\\n    y = 2\\n    print(globals())\\n    print(locals())\\nfoo()', 'x = 1\\ndef foo():\\n    y = 2\\n    print(globals(), type(globals()))\\n    print(locals(), type(locals()))\\nfoo()'], 'Out': {5: 1, 6: 1, 10: [1, 2, 3], 11: 1}, 'get_ipython': <bound method InteractiveShell.get_ipython of <ipykernel.zmqshell.ZMQInteractiveShell object at 0x000001C56B128A88>>, 'exit': <IPython.core.autocall.ZMQExitAutocall object at 0x000001C56C497908>, 'quit': <IPython.core.autocall.ZMQExitAutocall object at 0x000001C56C497908>, '_': '20', '__': [1, 2, 3], '___': 1, '_i': 'x = 1\\ndef foo():\\n    y = 2\\n    print(globals())\\n    print(locals())\\nfoo()', '_ii': 'print(globals())\\nprint(locals())', '_iii': 'x = 1\\n\\ndef is_even(n):\\n    return n == 0 if n <= 1 else is_odd(n-1)\\n# danger zone\\ndef is_odd(n):\\n    return n == 1 if n <=1 else is_even(n-1)', '_i1': '\\ndef create_sample_py_file(code, file_path):\\n    f = open(file_path, \"w+\")\\n    f.write(code)\\n    f.flush()\\n    f.close()\\npath = \"dummy_data/sample.py\"\\nsample_code = \\\\\\n\\'\\'\\'\\ndef foo():\\n    \"\"\"I do nothing and return 92.\"\"\"\\n    return 92\\nfoo()\\n\\'\\'\\'\\ncreate_sample_py_file(sample_code, path)\\n!python -m dis $path', 'create_sample_py_file': <function create_sample_py_file at 0x000001C56C59C708>, 'path': 'dummy_data/default.py', 'sample_code': '\\ndef foo(x=[], y=92):\\n    pass\\n', '_exit_code': 0, 'sys': <module 'sys' (built-in)>, '_pydevd_bundle': <module '_pydevd_bundle' from 'D:\\\\Util\\\\Jet Brains\\\\apps\\\\PyCharm-P\\\\ch-0\\\\193.6015.41\\\\plugins\\\\python\\\\helpers\\\\pydev\\\\_pydevd_bundle\\\\__init__.py'>, 'pydev_jupyter_vars': <module 'pydev_jupyter_vars' from 'D:\\\\Util\\\\Jet Brains\\\\apps\\\\PyCharm-P\\\\ch-0\\\\193.6015.41\\\\plugins\\\\python\\\\helpers-pro\\\\jupyter_debug\\\\pydev_jupyter_vars.py'>, '_i2': 'def foo():\\n    \"\"\"I do nothing and return 92.\"\"\"\\n    return 92\\n\\nprint(foo.__name__)\\nprint(foo.__doc__)', 'foo': <function foo at 0x000001C56F51F288>, '_i3': 'def foo():\\n    \"\"\"I do nothing and return 92.\"\"\"\\n    return 92\\n\\nprint(foo.__name__)\\nprint(foo.__doc__)\\nhelp(foo)', '_i4': '\\ndef min(x, y):\\n    return  x if x < y else y', 'min': <function min at 0x000001C56FB7CCA8>, '_i5': '\\ndef min(x, y):\\n    return  x if x < y else y\\nmin(1, 2)\\nmin(1, y=2)\\nmin(x=1, y=2)\\nmin(y=2, x=1)', '_5': 1, '_i6': \"def min(*args): # type(args) => <class 'tuple'>\\n    \\n    res = float('inf')\\n    for x in args:\\n        res = x if x < res else res\\n        return res\\nmin(92, 10, 62)\\nmin()\\nxs = [1, 2, 3]\\nmin(*xs)\", 'xs': ['2', '3'], '_6': 1, '_i7': \"def min(*args): # type(args) => <class 'tuple'>\\n    \\n    res = float('inf')\\n    for x in args:\\n        res = x if x < res else res\\n        return res\\nprint(min(92, 10, 62))\\nprint(min())\\nxs = [1, 2, 3]\\nprint(min(*xs))\", '_i8': \"# take any numbet of arguments\\ndef min(*args): # type(args) => <class 'tuple'>\\n    \\n    res = float('inf')\\n    for x in args:\\n        res = x if x < res else res\\n    return res\\nprint(min(92, 10, 62))\\nprint(min())\\nxs = [1, 2, 3]\\nprint(min(*xs))\", '_i9': '# take at least 1 argument\\ndef min(first, *rest):\\n    res = first\\n    for x in rest:\\n        res = x if x < res else res\\n    return res', '_i10': \"\\ndef min(*args, default=None): # type(args) => <class 'tuple'>\\n    if not args:\\n        return default\\n    res, *rest = args\\n    for x in rest:\\n        res = x if x < res else res\\n    return res\\n\\nmin(xs, default=0)\", '_10': [1, 2, 3], '_i11': \"\\ndef min(*args, default=None): # type(args) => <class 'tuple'>\\n    if not args:\\n        return default\\n    res, *rest = args\\n    for x in rest:\\n        res = x if x < res else res\\n    return res\\n\\nmin(*xs, default=0)\", '_11': 1, '_i12': 'path = \"dummy_data/default.py\"\\nsample_code = \\\\\\n\\'\\'\\'\\ndef min(*args, default=None): # type(args) => <class \\'tuple\\'>\\n    if not args:\\n        return default\\n    res, *rest = args\\n    for x in rest:\\n        res = x if x < res else res\\n    return res\\n\\nmin(*xs, default=0)\\n\\'\\'\\'\\ncreate_sample_py_file(sample_code, path)\\n!python -m dis $path', '_i13': 'path = \"dummy_data/default.py\"\\nsample_code = \\\\\\n\\'\\'\\'\\nmin(*xs, default=0)\\n\\'\\'\\'\\ncreate_sample_py_file(sample_code, path)\\n!python -m dis $path', '_i14': 'path = \"dummy_data/default.py\"\\nsample_code = \\\\\\n\\'\\'\\'\\ndef foo(x=[], y=92)\\n    pass\\n\\'\\'\\'\\ncreate_sample_py_file(sample_code, path)\\n!python -m dis $path', '_i15': 'path = \"dummy_data/default.py\"\\nsample_code = \\\\\\n\\'\\'\\'\\ndef foo(x=[], y=92):\\n    pass\\n\\'\\'\\'\\ncreate_sample_py_file(sample_code, path)\\n!python -m dis $path', '_i16': '\\nprint(min.__code__)', '_i17': '\\nprint(min.__code__.co_code)', '_i18': '\\ndef foo(arg1, arg2, *, mandatory_named=True):\\n    pass\\n\\nfoo(1,2, True)\\n    ', '_i19': '\\ndef foo(arg1, arg2, *, mandatory_named=True):\\n    pass\\n\\nfoo(1,2, mandatory_named=True)\\n    ', '_i20': 'def foo(arg1, arg2, *, mandatory_named=True):\\n    pass\\n\\n\\nfoo(1,2, mandatory_named=True)\\n#foo(1,2, True) # error\\n    ', '_i21': 'def foo(arg1, arg2, *, mandatory_named=True):\\n    pass\\n\\n\\nfoo(1,2, mandatory_named=True)\\n#foo(1,2, True) # error', '_i22': '\\ndef call_me(*args, **kwargs):\\n    return args, kwargs\\n(args, kwargs) = call_me(1, 2, a=3, b=4)', 'call_me': <function call_me at 0x000001C56F51FE58>, 'args': (1, 2), 'kwargs': {'a': 3, 'b': 4}, '_i23': '\\ndef call_me(*args, **kwargs):\\n    return args, kwargs\\n(args, kwargs) = call_me(1, 2, a=3, b=4)\\nprint(args)\\nprint(kwargs)', '_i24': 'print(call_me(**{\"a\": 92}))', '_i25': '\\nx, *xs = [1, 2, 3]\\nprint(x, xs)', 'x': 1, '_i26': '\\nx, *xs = [1, 2, 3]\\nprint(x, xs)\\nx, *xs = \"123\"\\nprint(x, xs)', '_i27': '\\nfirst, *rest, last = [1, 2, 3]\\n\\nprint(first, rest, last)', 'first': 1, 'rest': [2], 'last': 3, '_i28': '\\nfirst, *rest, last = [1, 2, 3]\\n\\nprint(first, rest, last)\\n\\nrectangle = ((0, 0), (2, 3))\\n(x1, y1), (x2, y2) = rectangle\\nprint(y2)', 'rectangle': ((0, 0), (2, 3)), 'x1': 0, 'y1': 0, 'x2': 2, 'y2': 3, '_i29': '\\nd = {}\\ntext = \"\"\" \\nApple,12,10\\nOrange, 24,20\\n\"\"\"\\nfor line in text.splitlines():\\n    name, price, _ = line.split(\\',\\')\\n    d[name] = price\\n    \\nprint(d)', 'd': {}, 'text': '\\nApple,12,10\\nOrange,24,20\\n', 'line': '', '_i30': '\\nd = {}\\ntext = \"\"\" \\\\\\nApple,12,10\\nOrange,24,20\\\\\\n\"\"\"\\nfor line in text.splitlines():\\n    name, price, _ = line.split(\\',\\')\\n    d[name] = price\\n    \\nprint(d)', 'name': 'Orange', 'price': '24', '_i31': '\\nd = {}\\ntext = \"\"\" \\\\\\nApple,12,10\\nOrange,24,20\\n\"\"\"\\nfor line in text.splitlines():\\n    name, price, _ = line.split(\\',\\')\\n    d[name] = price\\n    \\nprint(d)', '_i32': '\\nd = {}\\ntext = \"\"\" \\nApple,12,10\\nOrange,24,20\\n\"\"\"\\nfor line in text.splitlines():\\n    name, price, _ = line.split(\\',\\')\\n    d[name] = price\\n    \\nprint(d)', '_i33': '\\nd = {}\\ntext = \"\"\"\\\\\\nApple,12,10\\nOrange,24,20\\n\"\"\"\\nfor line in text.splitlines():\\n    name, price, _ = line.split(\\',\\')\\n    d[name] = price\\n    \\nprint(d)', '_i34': '\\nd = {}\\ntext = \\\\\\n\"\"\"\\nApple,12,10\\nOrange,24,20\\n\"\"\"\\nfor line in text.splitlines():\\n    name, price, _ = line.split(\\',\\')\\n    d[name] = price\\n    \\nprint(d)', '_i35': \"\\nprint(*[1], *[2], *[3])\\nprint(dict(**{'X': 1}, Y=2, **{'Z':3}))\", '_i36': '\\ndef is_even(n):\\n    return n == 0 if n <= 1 else is_odd(n-1)\\n\\ndef is_odd(n):\\n    return n == 1 if n <=1 else is_even(n-1)', 'is_even': <function is_even at 0x000001C56F51F9D8>, 'is_odd': <function is_odd at 0x000001C56F51F3A8>, '_i37': 'print(globals())', '_i38': 'print(globals())\\nprint(locals())', '_i39': 'x = 1\\n\\ndef is_even(n):\\n    return n == 0 if n <= 1 else is_odd(n-1)\\n# danger zone\\ndef is_odd(n):\\n    return n == 1 if n <=1 else is_even(n-1)', '_i40': 'print(globals())\\nprint(locals())', '_i41': 'x = 1\\ndef foo():\\n    y = 2\\n    print(globals())\\n    print(locals())\\nfoo()', '_i42': 'x = 1\\ndef foo():\\n    y = 2\\n    print(globals(), type(globals()))\\n    print(locals(), type(locals()))\\nfoo()'} <class 'dict'>\n",
      "{'y': 2} <class 'dict'>\n"
     ],
     "output_type": "stream"
    }
   ],
   "source": [
    "x = 1\n",
    "def foo():\n",
    "    y = 2\n",
    "    print(globals(), type(globals()))\n",
    "    print(locals(), type(locals()))\n",
    "foo()"
   ],
   "metadata": {
    "collapsed": false,
    "pycharm": {
     "name": "#%%\n",
     "is_executing": false
    }
   }
  },
  {
   "cell_type": "code",
   "execution_count": 43,
   "outputs": [],
   "source": [
    "def foo():\n",
    "    x = 92\n",
    "    def bar():\n",
    "        return x\n",
    "    return bar\n",
    "bar = foo()\n",
    "\n",
    "assert bar() == 92\n",
    "    "
   ],
   "metadata": {
    "collapsed": false,
    "pycharm": {
     "name": "#%%\n",
     "is_executing": false
    }
   }
  },
  {
   "cell_type": "code",
   "execution_count": 45,
   "outputs": [
    {
     "name": "stdout",
     "text": [
      "(<cell at 0x000001C56EE2F738: empty>,)\n",
      "{'bar': <function foo.<locals>.bar at 0x000001C56F0EA948>}\n",
      "(<cell at 0x000001C56EE2F738: int object at 0x00007FFA9BD9ACF0>,)\n",
      "{'bar': <function foo.<locals>.bar at 0x000001C56F0EA948>, 'x': 92}\n"
     ],
     "output_type": "stream"
    }
   ],
   "source": [
    "def foo():\n",
    "    def bar():\n",
    "        return x\n",
    "    print(bar.__closure__)\n",
    "    print(locals())\n",
    "    x = 92\n",
    "    print(bar.__closure__)\n",
    "    print(locals())\n",
    "foo()\n",
    "\n",
    "# first bython reads all the local variables beforehand"
   ],
   "metadata": {
    "collapsed": false,
    "pycharm": {
     "name": "#%%\n",
     "is_executing": false
    }
   }
  },
  {
   "cell_type": "code",
   "execution_count": 46,
   "outputs": [
    {
     "name": "stdout",
     "text": [
      "1\n"
     ],
     "output_type": "stream"
    }
   ],
   "source": [
    "x = 1\n",
    "def foo():\n",
    "    print(x)\n",
    "    # x = 2 error since x will become local variable\n",
    "    \n",
    "foo()\n"
   ],
   "metadata": {
    "collapsed": false,
    "pycharm": {
     "name": "#%%\n",
     "is_executing": false
    }
   }
  },
  {
   "cell_type": "markdown",
   "source": [
    "### LEGB\n",
    " How we perform processing.\n",
    "* local, locals() -- by index\n",
    "* enclosing, goo.__closure__ -- by index\n",
    "* global, foo.__globals__, globals() -- dictionary search\n",
    "* builtins "
   ],
   "metadata": {
    "collapsed": false,
    "pycharm": {
     "name": "#%% md\n"
    }
   }
  },
  {
   "cell_type": "code",
   "execution_count": null,
   "outputs": [],
   "source": [
    "# how we mark variables in our code (to make python take global one instead of local\n",
    "x = 1\n",
    "def foo():\n",
    "    global x\n",
    "    x = 2\n",
    "    y = 1\n",
    "    def bar():\n",
    "        nonlocal y\n",
    "        y = 2"
   ],
   "metadata": {
    "collapsed": false,
    "pycharm": {
     "name": "#%%\n"
    }
   }
  },
  {
   "cell_type": "code",
   "execution_count": 48,
   "outputs": [
    {
     "name": "stdout",
     "text": [
      "2 2 2 "
     ],
     "output_type": "stream"
    },
    {
     "data": {
      "text/plain": "[<function __main__.foo.<locals>.bar()>,\n <function __main__.foo.<locals>.bar()>,\n <function __main__.foo.<locals>.bar()>]"
     },
     "metadata": {},
     "output_type": "execute_result",
     "execution_count": 48
    }
   ],
   "source": [
    "# Cells - inner functions always close only cell instead of value\n",
    "\n",
    "#Cons:\n",
    "def foo():\n",
    "    res = []\n",
    "    for i in range(3):\n",
    "        def bar():\n",
    "            return i  # bar will store not value but cell, so the last update will be visible for all the values\n",
    "        res.append(bar)  \n",
    "    return res\n",
    "\n",
    "for f in foo():\n",
    "    print(f(), end=\" \")\n",
    "foo()"
   ],
   "metadata": {
    "collapsed": false,
    "pycharm": {
     "name": "#%%\n",
     "is_executing": false
    }
   }
  },
  {
   "cell_type": "code",
   "execution_count": 50,
   "outputs": [],
   "source": [
    "#Pros\n",
    "def foo():\n",
    "    def is_even(n):\n",
    "        return n == 0 if n <= 1 else is_odd(n-1)\n",
    "    def is_odd(n):\n",
    "        return n == 1 if n <= 1 else is_even(n-1)\n",
    "\n",
    "foo()"
   ],
   "metadata": {
    "collapsed": false,
    "pycharm": {
     "name": "#%%\n",
     "is_executing": false
    }
   }
  },
  {
   "cell_type": "code",
   "execution_count": 55,
   "outputs": [
    {
     "data": {
      "text/plain": "[<function __main__.foo.<locals>.bar(i=0)>,\n <function __main__.foo.<locals>.bar(i=1)>,\n <function __main__.foo.<locals>.bar(i=2)>]"
     },
     "metadata": {},
     "output_type": "execute_result",
     "execution_count": 55
    }
   ],
   "source": [
    "# how to fix cons\n",
    "#1\n",
    "def foo():\n",
    "    def make_bar(i):\n",
    "        def bar():\n",
    "            return i\n",
    "        return bar\n",
    "    res = []\n",
    "    for i in range(3):\n",
    "        res.append(make_bar(i))\n",
    "    return res\n",
    "\n",
    "foo()\n",
    "\n",
    "#2\n",
    "\n",
    "def foo():\n",
    "    res = []\n",
    "    for i in range(3):\n",
    "        def bar(i=i):\n",
    "            return i\n",
    "        res.append(bar)\n",
    "    return res\n",
    "foo()"
   ],
   "metadata": {
    "collapsed": false,
    "pycharm": {
     "name": "#%%\n",
     "is_executing": false
    }
   }
  },
  {
   "cell_type": "markdown",
   "source": [
    "* **static resolving for local variables**\n",
    "* globals()\n",
    "* locals() - just a view. changes won't take an  effect\n",
    "* closures\n"
   ],
   "metadata": {
    "collapsed": false,
    "pycharm": {
     "name": "#%% md\n"
    }
   }
  },
  {
   "cell_type": "markdown",
   "source": [
    "## Lambda\n",
    "lambda  arguments: expression\n",
    "\n",
    "def _ (arguments):\n",
    "    return expression"
   ],
   "metadata": {
    "collapsed": false,
    "pycharm": {
     "name": "#%% md\n"
    }
   }
  },
  {
   "cell_type": "code",
   "execution_count": 56,
   "outputs": [
    {
     "name": "stdout",
     "text": [
      "range(0, 3)\n",
      "[0, 1, 2]\n",
      "<map object at 0x000001C56F34F188>\n",
      "[1, 2, 3]\n"
     ],
     "output_type": "stream"
    }
   ],
   "source": [
    "lambda a, *args, b=1, **kwargs:92\n",
    "\n",
    "print(range(3))\n",
    "\n",
    "print(list(range(3)))\n",
    "\n",
    "print(map(lambda x: x+1, [0, 1, 2]))\n",
    "\n",
    "print(list(map(lambda x: x+1, [0, 1, 2])))"
   ],
   "metadata": {
    "collapsed": false,
    "pycharm": {
     "name": "#%%\n",
     "is_executing": false
    }
   }
  },
  {
   "cell_type": "code",
   "execution_count": 57,
   "outputs": [
    {
     "data": {
      "text/plain": "[3, 5, 7]"
     },
     "metadata": {},
     "output_type": "execute_result",
     "execution_count": 57
    }
   ],
   "source": [
    "# we can pass 2 lists, the result will be trancated\n",
    "list(map(lambda x, y: x + y, [0, 1, 2], [3, 4, 5, 6]))"
   ],
   "metadata": {
    "collapsed": false,
    "pycharm": {
     "name": "#%%\n",
     "is_executing": false
    }
   }
  },
  {
   "cell_type": "code",
   "execution_count": 59,
   "outputs": [
    {
     "data": {
      "text/plain": "[('h', 0), ('e', 1), ('l', 2), ('l', 3), ('o', 4)]"
     },
     "metadata": {},
     "output_type": "execute_result",
     "execution_count": 59
    }
   ],
   "source": [
    "list(filter(lambda x: x % 2 == 0, range(10)))\n",
    "\n",
    "list (zip(\"hello\", range(10)))\n"
   ],
   "metadata": {
    "collapsed": false,
    "pycharm": {
     "name": "#%%\n",
     "is_executing": false
    }
   }
  },
  {
   "cell_type": "code",
   "execution_count": 60,
   "outputs": [
    {
     "data": {
      "text/plain": "[0, 4, 16, 36, 64]"
     },
     "metadata": {},
     "output_type": "execute_result",
     "execution_count": 60
    }
   ],
   "source": [
    "xs =[]\n",
    "ys = []\n",
    "assert len(xs) == len(ys) # should always chek since zip will trancate\n",
    "for x, y in zip(xs, ys):\n",
    "    pass\n",
    "\n",
    "[x**2 for x in range(10) if x % 2 ==0] #lambda killer"
   ],
   "metadata": {
    "collapsed": false,
    "pycharm": {
     "name": "#%%\n",
     "is_executing": false
    }
   }
  },
  {
   "cell_type": "code",
   "execution_count": null,
   "outputs": [],
   "source": [
    "#but list expressions are greedy and map is lazy"
   ],
   "metadata": {
    "collapsed": false,
    "pycharm": {
     "name": "#%%\n"
    }
   }
  },
  {
   "cell_type": "code",
   "execution_count": 1,
   "outputs": [
    {
     "data": {
      "text/plain": "[(2, 1), (4, 1), (4, 3)]"
     },
     "metadata": {},
     "output_type": "execute_result",
     "execution_count": 1
    }
   ],
   "source": [
    "[(x,y) \n",
    " for x in range(5) \n",
    " if x % 2 == 0\n",
    " for y in range(x)\n",
    " if y % 2 == 1]"
   ],
   "metadata": {
    "collapsed": false,
    "pycharm": {
     "name": "#%%\n",
     "is_executing": false
    }
   }
  },
  {
   "cell_type": "code",
   "execution_count": 2,
   "outputs": [
    {
     "data": {
      "text/plain": "<generator object <genexpr> at 0x0000012FA25A3A48>"
     },
     "metadata": {},
     "output_type": "execute_result",
     "execution_count": 2
    }
   ],
   "source": [
    "#generator object\n",
    "(x**2 for x in range(5))\n",
    "\n"
   ],
   "metadata": {
    "collapsed": false,
    "pycharm": {
     "name": "#%%\n",
     "is_executing": false
    }
   }
  },
  {
   "cell_type": "code",
   "execution_count": null,
   "outputs": [],
   "source": [
    "\n"
   ],
   "metadata": {
    "collapsed": false,
    "pycharm": {
     "name": "#%%\n"
    }
   }
  }
 ],
 "metadata": {
  "kernelspec": {
   "display_name": "Python 3",
   "language": "python",
   "name": "python3"
  },
  "language_info": {
   "codemirror_mode": {
    "name": "ipython",
    "version": 2
   },
   "file_extension": ".py",
   "mimetype": "text/x-python",
   "name": "python",
   "nbconvert_exporter": "python",
   "pygments_lexer": "ipython2",
   "version": "2.7.6"
  },
  "pycharm": {
   "stem_cell": {
    "cell_type": "raw",
    "source": [],
    "metadata": {
     "collapsed": false
    }
   }
  }
 },
 "nbformat": 4,
 "nbformat_minor": 0
}