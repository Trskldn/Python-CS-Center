{
 "cells": [
  {
   "cell_type": "markdown",
   "metadata": {
    "collapsed": true,
    "pycharm": {
     "name": "#%% md\n"
    }
   },
   "source": [
    "# Lecture 2. Functions"
   ]
  },
  {
   "cell_type": "code",
   "execution_count": 5,
   "outputs": [
    {
     "name": "stdout",
     "text": [
      "  2           0 LOAD_CONST               0 (<code object foo at 0x0000017EFCDCAA50, file \"dummy_data/sample.py\", line 2>)\n",
      "              2 LOAD_CONST               1 ('foo')\n",
      "              4 MAKE_FUNCTION            0\n",
      "              6 STORE_NAME               0 (foo)\n",
      "\n",
      "  5           8 LOAD_NAME                0 (foo)\n",
      "             10 CALL_FUNCTION            0\n",
      "             12 POP_TOP\n",
      "             14 LOAD_CONST               2 (None)\n",
      "             16 RETURN_VALUE\n",
      "\n",
      "Disassembly of <code object foo at 0x0000017EFCDCAA50, file \"dummy_data/sample.py\", line 2>:\n",
      "  4           0 LOAD_CONST               1 (92)\n",
      "              2 RETURN_VALUE\n"
     ],
     "output_type": "stream"
    }
   ],
   "source": [
    "def create_sample_py_file(code, file_path):\n",
    "    f = open(file_path, \"w+\")\n",
    "    f.write(code)\n",
    "    f.flush()\n",
    "    f.close()\n",
    "path = \"dummy_data/sample.py\"\n",
    "sample_code = '''\n",
    "def foo():\n",
    "    \"\"\"I do nothing and return 92.\"\"\"\n",
    "    return 92\n",
    "foo()\n",
    "'''\n",
    "create_sample_py_file(sample_code, path)\n",
    "!python -m dis $path"
   ],
   "metadata": {
    "collapsed": false,
    "pycharm": {
     "name": "#%%\n",
     "is_executing": false
    }
   }
  },
  {
   "cell_type": "code",
   "execution_count": null,
   "outputs": [],
   "source": [
    "\n"
   ],
   "metadata": {
    "collapsed": false,
    "pycharm": {
     "name": "#%%\n"
    }
   }
  }
 ],
 "metadata": {
  "kernelspec": {
   "display_name": "Python 3",
   "language": "python",
   "name": "python3"
  },
  "language_info": {
   "codemirror_mode": {
    "name": "ipython",
    "version": 2
   },
   "file_extension": ".py",
   "mimetype": "text/x-python",
   "name": "python",
   "nbconvert_exporter": "python",
   "pygments_lexer": "ipython2",
   "version": "2.7.6"
  },
  "pycharm": {
   "stem_cell": {
    "cell_type": "raw",
    "source": [],
    "metadata": {
     "collapsed": false
    }
   }
  }
 },
 "nbformat": 4,
 "nbformat_minor": 0
}