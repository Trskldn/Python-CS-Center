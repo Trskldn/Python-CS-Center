{
 "cells": [
  {
   "cell_type": "markdown",
   "metadata": {
    "collapsed": true,
    "pycharm": {
     "name": "#%% md\n"
    }
   },
   "source": [
    "## Simple Class\n"
   ]
  },
  {
   "cell_type": "code",
   "execution_count": 2,
   "outputs": [
    {
     "name": "stdout",
     "output_type": "stream",
     "text": [
      "92\n"
     ]
    }
   ],
   "source": [
    "from functools import partial\n",
    "class Counter:\n",
    "    \"\"\"Counter class\"\"\"\n",
    "    \n",
    "    def __init__(self, initial_count=0):\n",
    "        self.count = initial_count\n",
    "        \n",
    "    def get(self):\n",
    "        return self.count\n",
    "    \n",
    "    def increment(self):\n",
    "        self.count += 1\n",
    "    \n",
    "c = Counter(initial_count=91)\n",
    "c.increment()\n",
    "print(c.get())"
   ],
   "metadata": {
    "collapsed": false,
    "pycharm": {
     "name": "#%%\n"
    }
   }
  },
  {
   "cell_type": "markdown",
   "source": [
    "## Attributes"
   ],
   "metadata": {
    "collapsed": false,
    "pycharm": {
     "name": "#%% md\n"
    }
   }
  },
  {
   "cell_type": "code",
   "execution_count": 3,
   "outputs": [],
   "source": [
    "class Counter:\n",
    "    all_counters = [] # class attribute\n",
    "    \n",
    "    def __init__(self, initial_count=0):\n",
    "        Counter.all_counters.append(self)\n",
    "        # no explicit field declaration\n",
    "        self.count = initial_count\n",
    "        \n",
    "c1 = Counter(92)\n",
    "c2 = Counter(62)\n",
    "assert len(Counter.all_counters) == 2\n",
    "assert c1.all_counters is c2.all_counters\n"
   ],
   "metadata": {
    "collapsed": false,
    "pycharm": {
     "name": "#%%\n"
    }
   }
  },
  {
   "cell_type": "markdown",
   "source": [
    " \n",
    "## __dict__"
   ],
   "metadata": {
    "collapsed": false,
    "pycharm": {
     "name": "#%% md\n",
     "is_executing": false
    }
   }
  },
  {
   "cell_type": "code",
   "execution_count": 4,
   "outputs": [
    {
     "name": "stdout",
     "output_type": "stream",
     "text": [
      "<class '__main__.Counter'>\n"
     ]
    }
   ],
   "source": [
    "c = Counter(92)\n",
    "print(c.__class__)"
   ],
   "metadata": {
    "collapsed": false,
    "pycharm": {
     "name": "#%%\n"
    }
   }
  },
  {
   "cell_type": "code",
   "execution_count": 5,
   "outputs": [
    {
     "name": "stdout",
     "output_type": "stream",
     "text": [
      "{'count': 92}\n"
     ]
    }
   ],
   "source": [
    "print(c.__dict__)"
   ],
   "metadata": {
    "collapsed": false,
    "pycharm": {
     "name": "#%%\n"
    }
   }
  },
  {
   "cell_type": "code",
   "execution_count": 6,
   "outputs": [
    {
     "data": {
      "text/plain": "True"
     },
     "execution_count": 6,
     "metadata": {},
     "output_type": "execute_result"
    }
   ],
   "source": [
    "c.count == c.__dict__[\"count\"]"
   ],
   "metadata": {
    "collapsed": false,
    "pycharm": {
     "name": "#%%\n"
    }
   }
  },
  {
   "cell_type": "code",
   "execution_count": 7,
   "outputs": [
    {
     "name": "stdout",
     "output_type": "stream",
     "text": [
      "62\n"
     ]
    }
   ],
   "source": [
    "c.__dict__[\"foo\"] = 62\n",
    "print(c.foo)"
   ],
   "metadata": {
    "collapsed": false,
    "pycharm": {
     "name": "#%%\n"
    }
   }
  },
  {
   "cell_type": "code",
   "execution_count": 8,
   "outputs": [
    {
     "name": "stdout",
     "output_type": "stream",
     "text": [
      "{}\n"
     ]
    }
   ],
   "source": [
    "del c.foo\n",
    "del c.__dict__[\"count\"] # ~= .pop(\"count\")\n",
    "print(vars(c))"
   ],
   "metadata": {
    "collapsed": false,
    "pycharm": {
     "name": "#%%\n"
    }
   }
  },
  {
   "cell_type": "markdown",
   "source": [
    "## Class is an object\n"
   ],
   "metadata": {
    "collapsed": false,
    "pycharm": {
     "name": "#%% md\n"
    }
   }
  },
  {
   "cell_type": "code",
   "execution_count": 9,
   "outputs": [
    {
     "data": {
      "text/plain": "('Counter', None, '__main__')"
     },
     "execution_count": 9,
     "metadata": {},
     "output_type": "execute_result"
    }
   ],
   "source": [
    "(Counter.__name__, Counter.__doc__, Counter.__module__)"
   ],
   "metadata": {
    "collapsed": false,
    "pycharm": {
     "name": "#%% \n"
    }
   }
  },
  {
   "cell_type": "code",
   "execution_count": 10,
   "outputs": [
    {
     "name": "stdout",
     "output_type": "stream",
     "text": [
      "(<class 'object'>,)\n"
     ]
    },
    {
     "data": {
      "text/plain": "mappingproxy({'__module__': '__main__',\n              'all_counters': [<__main__.Counter at 0x1c67ec39048>,\n               <__main__.Counter at 0x1c67ec39088>,\n               <__main__.Counter at 0x1c67ec2e748>],\n              '__init__': <function __main__.Counter.__init__(self, initial_count=0)>,\n              '__dict__': <attribute '__dict__' of 'Counter' objects>,\n              '__weakref__': <attribute '__weakref__' of 'Counter' objects>,\n              '__doc__': None})"
     },
     "execution_count": 10,
     "metadata": {},
     "output_type": "execute_result"
    }
   ],
   "source": [
    "print(Counter.__bases__)\n",
    "Counter.__dict__\n"
   ],
   "metadata": {
    "collapsed": false,
    "pycharm": {
     "name": "#%%\n"
    }
   }
  },
  {
   "cell_type": "markdown",
   "source": [
    "## Class is a statement\n",
    "\n",
    "dict is a result of class body."
   ],
   "metadata": {
    "collapsed": false,
    "pycharm": {
     "name": "#%% md\n"
    }
   }
  },
  {
   "cell_type": "code",
   "execution_count": 11,
   "outputs": [
    {
     "name": "stdout",
     "output_type": "stream",
     "text": [
      "55\n"
     ]
    }
   ],
   "source": [
    "class Weird:\n",
    "    f1, f2 = 0, 1\n",
    "    for _ in range(10):\n",
    "        f1, f2 = f2, f1 + f2\n",
    "\n",
    "print(Weird.f1)"
   ],
   "metadata": {
    "collapsed": false,
    "pycharm": {
     "name": "#%%\n"
    }
   }
  },
  {
   "cell_type": "markdown",
   "source": [
    "### attribute search"
   ],
   "metadata": {
    "collapsed": false,
    "pycharm": {
     "name": "#%% md\n"
    }
   }
  },
  {
   "cell_type": "code",
   "execution_count": 12,
   "outputs": [
    {
     "name": "stdout",
     "output_type": "stream",
     "text": [
      "{'__module__': '__main__', 'x': 92, '__dict__': <attribute '__dict__' of 'A' objects>, '__weakref__': <attribute '__weakref__' of 'A' objects>, '__doc__': None}\n",
      "{}\n",
      "92\n",
      "{'x': 62}\n",
      "62\n",
      "92\n"
     ]
    }
   ],
   "source": [
    "class A:\n",
    "    x = 92\n",
    "    \n",
    "a = A()\n",
    "print(vars(A))\n",
    "print(vars(a))\n",
    "\n",
    "print(a.x)\n",
    "\n",
    "a.x = 62\n",
    "print(vars(a))\n",
    "print(a.x)\n",
    "print(A.x)"
   ],
   "metadata": {
    "collapsed": false,
    "pycharm": {
     "name": "#%%\n"
    }
   }
  },
  {
   "cell_type": "markdown",
   "source": [
    "## Bound methods"
   ],
   "metadata": {
    "collapsed": false,
    "pycharm": {
     "name": "#%% md\n"
    }
   }
  },
  {
   "cell_type": "code",
   "execution_count": 13,
   "outputs": [
    {
     "name": "stdout",
     "output_type": "stream",
     "text": [
      "<bound method A.foo of <__main__.A object at 0x000001C67EC28388>>\n",
      "<function A.foo at 0x000001C67EC355E8>\n",
      "False\n"
     ]
    }
   ],
   "source": [
    "class A:\n",
    "    def foo(self):\n",
    "        pass\n",
    "a = A()\n",
    "print(a.foo)\n",
    "print(A.foo)\n",
    "print(a.foo is A.foo)"
   ],
   "metadata": {
    "collapsed": false,
    "pycharm": {
     "name": "#%%\n"
    }
   }
  },
  {
   "cell_type": "code",
   "execution_count": 14,
   "outputs": [
    {
     "name": "stdout",
     "output_type": "stream",
     "text": [
      "None\n",
      "None\n",
      "None\n",
      "None\n"
     ]
    }
   ],
   "source": [
    "from functools import partial\n",
    "print(a.foo())\n",
    "# same as\n",
    "print(A.foo(a))\n",
    "\n",
    "# same as\n",
    "f = a.foo\n",
    "g = partial(A.foo, a)\n",
    "print(f())\n",
    "\n",
    "print(g())\n",
    "\n"
   ],
   "metadata": {
    "collapsed": false,
    "pycharm": {
     "name": "#%%\n"
    }
   }
  },
  {
   "cell_type": "markdown",
   "source": [
    "**obj.foo(bar)**\n",
    "is same as\n",
    "**obj.__class__.foo(obj, bar)**"
   ],
   "metadata": {
    "collapsed": false,
    "pycharm": {
     "name": "#%% md\n"
    }
   }
  },
  {
   "cell_type": "markdown",
   "source": [
    "## Properties"
   ],
   "metadata": {
    "collapsed": false,
    "pycharm": {
     "name": "#%% md\n"
    }
   }
  },
  {
   "cell_type": "code",
   "execution_count": 15,
   "outputs": [],
   "source": [
    "class Counter:\n",
    "    def __init__(self, initial_count=0):\n",
    "        self.count = initial_count\n",
    "\n",
    "    def increment(self):\n",
    "        self.count += 1\n",
    "\n",
    "    @property\n",
    "    def is_zero(self):\n",
    "        return  self.count == 0\n",
    "\n",
    "c = Counter()\n",
    "\n",
    "assert c.is_zero #no ()\n",
    "\n",
    "c.increment()\n",
    "\n",
    "assert not c.is_zero\n",
    "\n",
    "\n",
    "        "
   ],
   "metadata": {
    "collapsed": false,
    "pycharm": {
     "name": "#%%\n"
    }
   }
  },
  {
   "cell_type": "code",
   "execution_count": 17,
   "outputs": [],
   "source": [
    "class Temperature:\n",
    "    def __init__(self, *, celsius=0):\n",
    "        self.celsius = celsius\n",
    "\n",
    "    @property\n",
    "    def fahrenheit(self):\n",
    "        return self.celsius * 9 / 5 + 32\n",
    "\n",
    "    @fahrenheit.setter\n",
    "    def fahrenheit(self, value):\n",
    "        self.celsius= (value - 32) * 5 / 9\n",
    "\n",
    "    @fahrenheit.deleter\n",
    "    def fahrenheit(self):\n",
    "        del self.celsius\\\n",
    "\n",
    "c = Temperature()\n",
    "c.fahrenheit = 451\n",
    "\n",
    "assert  c.celsius == 232.777777777777777"
   ],
   "metadata": {
    "collapsed": false,
    "pycharm": {
     "name": "#%%\n"
    }
   }
  },
  {
   "cell_type": "markdown",
   "source": [
    "## __slots__"
   ],
   "metadata": {
    "collapsed": false,
    "pycharm": {
     "name": "#%% md\n"
    }
   }
  },
  {
   "cell_type": "code",
   "execution_count": 18,
   "outputs": [
    {
     "ename": "AttributeError",
     "evalue": "'A' object has no attribute '__dict__'",
     "output_type": "error",
     "traceback": [
      "\u001B[1;31m---------------------------------------------------------------------------\u001B[0m",
      "\u001B[1;31mAttributeError\u001B[0m                            Traceback (most recent call last)",
      "\u001B[1;32m<ipython-input-18-48d6a7ce2bae>\u001B[0m in \u001B[0;36m<module>\u001B[1;34m\u001B[0m\n\u001B[0;32m      3\u001B[0m \u001B[1;33m\u001B[0m\u001B[0m\n\u001B[0;32m      4\u001B[0m \u001B[0ma\u001B[0m \u001B[1;33m=\u001B[0m \u001B[0mA\u001B[0m\u001B[1;33m(\u001B[0m\u001B[1;33m)\u001B[0m\u001B[1;33m\u001B[0m\u001B[1;33m\u001B[0m\u001B[0m\n\u001B[1;32m----> 5\u001B[1;33m \u001B[0mprint\u001B[0m\u001B[1;33m(\u001B[0m\u001B[0ma\u001B[0m\u001B[1;33m.\u001B[0m\u001B[0m__dict__\u001B[0m\u001B[1;33m)\u001B[0m\u001B[1;33m\u001B[0m\u001B[1;33m\u001B[0m\u001B[0m\n\u001B[0m\u001B[0;32m      6\u001B[0m \u001B[1;33m\u001B[0m\u001B[0m\n\u001B[0;32m      7\u001B[0m \u001B[1;33m\u001B[0m\u001B[0m\n",
      "\u001B[1;31mAttributeError\u001B[0m: 'A' object has no attribute '__dict__'"
     ]
    }
   ],
   "source": [
    "class A:\n",
    "    __slots__ = [\"x\", \"y\"] # save memory\n",
    "\n",
    "a = A()\n",
    "print(a.__dict__)"
   ],
   "metadata": {
    "collapsed": false,
    "pycharm": {
     "name": "#%%\n"
    }
   }
  },
  {
   "cell_type": "code",
   "execution_count": 19,
   "outputs": [],
   "source": [
    "a.x = 92\n"
   ],
   "metadata": {
    "collapsed": false,
    "pycharm": {
     "name": "#%%\n"
    }
   }
  },
  {
   "cell_type": "code",
   "execution_count": 20,
   "outputs": [
    {
     "ename": "AttributeError",
     "evalue": "'A' object has no attribute 'z'",
     "output_type": "error",
     "traceback": [
      "\u001B[1;31m---------------------------------------------------------------------------\u001B[0m",
      "\u001B[1;31mAttributeError\u001B[0m                            Traceback (most recent call last)",
      "\u001B[1;32m<ipython-input-20-0faf7f8069aa>\u001B[0m in \u001B[0;36m<module>\u001B[1;34m\u001B[0m\n\u001B[1;32m----> 1\u001B[1;33m \u001B[0ma\u001B[0m\u001B[1;33m.\u001B[0m\u001B[0mz\u001B[0m \u001B[1;33m=\u001B[0m \u001B[1;36m92\u001B[0m\u001B[1;33m\u001B[0m\u001B[1;33m\u001B[0m\u001B[0m\n\u001B[0m\u001B[0;32m      2\u001B[0m \u001B[1;33m\u001B[0m\u001B[0m\n",
      "\u001B[1;31mAttributeError\u001B[0m: 'A' object has no attribute 'z'"
     ]
    }
   ],
   "source": [
    "a.z = 92"
   ],
   "metadata": {
    "collapsed": false,
    "pycharm": {
     "name": "#%%\n"
    }
   }
  },
  {
   "cell_type": "markdown",
   "source": [
    "## visibility\n",
    "\n",
    "all fields and methods are public\n",
    "\n",
    "## But there are some conventions and mangling"
   ],
   "metadata": {
    "collapsed": false,
    "pycharm": {
     "name": "#%% md\n"
    }
   }
  },
  {
   "cell_type": "code",
   "execution_count": 24,
   "outputs": [],
   "source": [
    "class A:\n",
    "    def __init__(self):\n",
    "        self.pub = 92\n",
    "        self._priv = 62\n",
    "        self.__mangled = 42 ##  will be converted to  _A__mangled at the compilation to bytecode stage"
   ],
   "metadata": {
    "collapsed": false,
    "pycharm": {
     "name": "#%%\n"
    }
   }
  },
  {
   "cell_type": "code",
   "execution_count": 28,
   "outputs": [],
   "source": [
    "a = A()\n",
    "\n",
    "assert  a.pub == 92\n",
    "assert a._priv == 62\n",
    "assert a._A__mangled == 42"
   ],
   "metadata": {
    "collapsed": false,
    "pycharm": {
     "name": "#%%\n"
    }
   }
  },
  {
   "cell_type": "markdown",
   "source": [
    "## Inheritance\n"
   ],
   "metadata": {
    "collapsed": false,
    "pycharm": {
     "name": "#%% md\n"
    }
   }
  },
  {
   "cell_type": "code",
   "execution_count": 31,
   "outputs": [],
   "source": [
    "class Counter:\n",
    "    def __init__(self, initial_count=0):\n",
    "        self.count = initial_count\n",
    "\n",
    "    def get(self):\n",
    "        return self.count\n",
    "\n",
    "\n",
    "class SquaredCounter(Counter): # may be multiple\n",
    "    def get(self):  # can override\n",
    "        return super().get() ** 2\n",
    "\n",
    "c = SquaredCounter(91)\n",
    "assert c.get() == 8281"
   ],
   "metadata": {
    "collapsed": false,
    "pycharm": {
     "name": "#%%\n"
    }
   }
  },
  {
   "cell_type": "code",
   "execution_count": 32,
   "outputs": [],
   "source": [
    "assert isinstance(c, Counter)\n",
    "assert issubclass(SquaredCounter, Counter)\n",
    "assert issubclass(Counter, (str,object))"
   ],
   "metadata": {
    "collapsed": false,
    "pycharm": {
     "name": "#%%\n"
    }
   }
  },
  {
   "cell_type": "code",
   "execution_count": 34,
   "outputs": [
    {
     "name": "stdout",
     "output_type": "stream",
     "text": [
      "A\n"
     ]
    }
   ],
   "source": [
    "class A:\n",
    "    def f(self):\n",
    "        print(\"A\")\n",
    "\n",
    "class B:\n",
    "    def f(self):\n",
    "        print(\"B\")\n",
    "\n",
    "class C(A,B):\n",
    "   pass\n",
    "\n",
    "C().f()"
   ],
   "metadata": {
    "collapsed": false,
    "pycharm": {
     "name": "#%%\n"
    }
   }
  },
  {
   "cell_type": "code",
   "execution_count": 36,
   "outputs": [
    {
     "name": "stdout",
     "output_type": "stream",
     "text": [
      "A\n",
      "B\n",
      "Base\n"
     ]
    }
   ],
   "source": [
    "class Base:\n",
    "    def f(self):\n",
    "        print(\"Base\")\n",
    "\n",
    "class A(Base):\n",
    "    def f(self):\n",
    "        print(\"A\")\n",
    "        super().f() #super is dynamic\n",
    "\n",
    "class B(Base):\n",
    "    def f(self):\n",
    "        print(\"B\")\n",
    "        super().f()\n",
    "\n",
    "class C(A, B):\n",
    "    pass\n",
    "\n",
    "C().f()\n"
   ],
   "metadata": {
    "collapsed": false,
    "pycharm": {
     "name": "#%%\n"
    }
   }
  },
  {
   "cell_type": "code",
   "execution_count": 37,
   "outputs": [],
   "source": [
    "assert C.mro() == [C, A, B, Base, object] # Method resolution order\n",
    "\n",
    "#Super takes next class from mro\n",
    "\n",
    "class A:\n",
    "    def foo(self):\n",
    "        super().foo()\n",
    "        #is same as\n",
    "        super(A, self).foo()"
   ],
   "metadata": {
    "collapsed": false,
    "pycharm": {
     "name": "#%%\n"
    }
   }
  },
  {
   "cell_type": "markdown",
   "source": [
    "## Mixin"
   ],
   "metadata": {
    "collapsed": false,
    "pycharm": {
     "name": "#%% md\n"
    }
   }
  },
  {
   "cell_type": "code",
   "execution_count": 53,
   "outputs": [],
   "source": [
    "class Counter:\n",
    "    def __init__(self, initial_count=0):\n",
    "        self.count = initial_count\n",
    "    def increment(self):\n",
    "        self.count+=1\n",
    "\n",
    "\n",
    "class DoublingMixing: #!!!\n",
    "    def increment(self):\n",
    "        super().increment()\n",
    "        super().increment()\n",
    "\n",
    "class DoublingCounter(DoublingMixing, Counter):\n",
    "    pass\n",
    "\n",
    "c = DoublingCounter()\n",
    "\n",
    "assert c.count == 0\n",
    "c.increment()\n",
    "assert c.count == 2"
   ],
   "metadata": {
    "collapsed": false,
    "pycharm": {
     "name": "#%%\n"
    }
   }
  },
  {
   "cell_type": "markdown",
   "source": [
    "## Decorators\n",
    "same through decorator"
   ],
   "metadata": {
    "collapsed": false,
    "pycharm": {
     "name": "#%% md\n"
    }
   }
  },
  {
   "cell_type": "code",
   "execution_count": 56,
   "outputs": [],
   "source": [
    "import functools\n",
    "def doubling(cls):\n",
    "    orig_increment = cls.increment\n",
    "\n",
    "    @functools.wraps(orig_increment)\n",
    "    def increment(self):\n",
    "        orig_increment(self)\n",
    "        orig_increment(self)\n",
    "    cls.increment = increment\n",
    "    return cls\n",
    "\n",
    "@doubling\n",
    "class DoublingCounter(Counter):\n",
    "    pass\n",
    "\n",
    "\n",
    "c = DoublingCounter()\n",
    "\n",
    "assert  c.count == 0\n",
    "c.increment()\n",
    "assert c.count == 2\n"
   ],
   "metadata": {
    "collapsed": false,
    "pycharm": {
     "name": "#%%\n"
    }
   }
  },
  {
   "cell_type": "markdown",
   "source": [
    "## Magic methods\n"
   ],
   "metadata": {
    "collapsed": false,
    "pycharm": {
     "name": "#%% md\n"
    }
   }
  },
  {
   "cell_type": "code",
   "execution_count": 58,
   "outputs": [],
   "source": [
    "class Counter:\n",
    "    def __init__(self, initial_count):\n",
    "        self.count = initial_count\n",
    "\n",
    "    def __lt__(self, other):\n",
    "        return self.count < other.count\n",
    "\n",
    "    def __eq__(self, other):\n",
    "        return self.count == other.count\n",
    "\n",
    "c1 = Counter(62)\n",
    "c2 = Counter(92)\n",
    "\n",
    "assert c1 < c2\n",
    "assert (62).__lt__(92)\n",
    "#assert c2 >= c1 # there is no __ge__ defined"
   ],
   "metadata": {
    "collapsed": false,
    "pycharm": {
     "name": "#%%\n"
    }
   }
  },
  {
   "cell_type": "markdown",
   "source": [
    "we can use functools total_ordering decorator (it can define all 8 magic functions based on lt and gt"
   ],
   "metadata": {
    "collapsed": false,
    "pycharm": {
     "name": "#%% md\n"
    }
   }
  },
  {
   "cell_type": "code",
   "execution_count": 60,
   "outputs": [],
   "source": [
    "class Counter:\n",
    "    def __init__(self, initial_count):\n",
    "        self.count = initial_count\n",
    "\n",
    "    def __repr__(self):\n",
    "        return \"Counter ({})\".format(self.count)\n",
    "\n",
    "    def __str__(self):\n",
    "        return \"Counted to {}\".format(self.count)\n",
    "\n",
    "c = Counter(92)\n",
    "assert str(c) == f\"{c}\" == \"Counted to 92\"\n",
    "assert repr(c) == f\"{c!r}\" == \"Counter (92)\"\n",
    "\n",
    "\n",
    "\n",
    "\n",
    "\n"
   ],
   "metadata": {
    "collapsed": false,
    "pycharm": {
     "name": "#%%\n"
    }
   }
  },
  {
   "cell_type": "code",
   "execution_count": 61,
   "outputs": [],
   "source": [
    "class Counter:\n",
    "    def __init__(self, initial_count):\n",
    "        self.count = initial_count\n",
    "\n",
    "    def __format__(self, format_spec):\n",
    "        if format_spec == \"bold\":\n",
    "            return f\"**{self.count}**\"\n",
    "        return str(self.count)\n",
    "\n",
    "c = Counter(92)\n",
    "\n",
    "assert f\"{c:bold}\" == \"**92**\""
   ],
   "metadata": {
    "collapsed": false,
    "pycharm": {
     "name": "#%%\n"
    }
   }
  },
  {
   "cell_type": "code",
   "execution_count": 63,
   "outputs": [],
   "source": [
    "class Counter:\n",
    "    def __init__(self, initial_count):\n",
    "        self.count = initial_count\n",
    "\n",
    "    def __hash__(self):\n",
    "        # NB: a == b => hash(a) == hash(b)\n",
    "        return hash(self.count)\n",
    "\n",
    "    def __eq__(self, other):\n",
    "        return self.count == other.count\n",
    "\n",
    "assert len({Counter(92), Counter(92)}) == 1\n"
   ],
   "metadata": {
    "collapsed": false,
    "pycharm": {
     "name": "#%%\n"
    }
   }
  },
  {
   "cell_type": "code",
   "execution_count": 66,
   "outputs": [
    {
     "name": "stdout",
     "output_type": "stream",
     "text": [
      "empty\n"
     ]
    }
   ],
   "source": [
    "class Counter:\n",
    "    def __init__(self, initial_count):\n",
    "        self.count = initial_count\n",
    "\n",
    "    def __bool__(self):\n",
    "        return self.count > 0\n",
    "\n",
    "c = Counter(0)\n",
    "\n",
    "if not c:\n",
    "    print(\"empty\")"
   ],
   "metadata": {
    "collapsed": false,
    "pycharm": {
     "name": "#%%\n"
    }
   }
  },
  {
   "cell_type": "code",
   "execution_count": 67,
   "outputs": [],
   "source": [
    "\n",
    "class Counter:\n",
    "    def __init__(self, initial_count):\n",
    "        self.count = initial_count\n",
    "\n",
    "    def __add__(self, other):\n",
    "        if not isinstance(other, int):\n",
    "            return NotImplemented\n",
    "        return Counter(self.count + other)\n",
    "\n",
    "    def __radd__(self, other):\n",
    "        return self + other\n",
    "\n",
    "    def __bool__(self):\n",
    "        return self.count > 0\n",
    "\n",
    "c = Counter(0)\n",
    "\n",
    "assert (c + 1).count == 1\n",
    "assert (1 + c).count == 1"
   ],
   "metadata": {
    "collapsed": false,
    "pycharm": {
     "name": "#%%\n"
    }
   }
  },
  {
   "cell_type": "code",
   "execution_count": 73,
   "outputs": [],
   "source": [
    "class Identity:\n",
    "    def __call__(self, x):\n",
    "        return x\n",
    "\n",
    "assert Identity()(92) == 92"
   ],
   "metadata": {
    "collapsed": false,
    "pycharm": {
     "name": "#%%\n"
    }
   }
  },
  {
   "cell_type": "code",
   "execution_count": 76,
   "outputs": [],
   "source": [
    "class n_times:\n",
    "    def __init__(self, n):\n",
    "        self.n = n\n",
    "\n",
    "    def __call__(self, func):\n",
    "        @functools.wraps(func)\n",
    "        def inner(*args, **kwargs):\n",
    "            for _ in range(self.n):\n",
    "                func(*args, **kwargs)\n",
    "        return inner()"
   ],
   "metadata": {
    "collapsed": false,
    "pycharm": {
     "name": "#%%\n"
    }
   }
  },
  {
   "cell_type": "code",
   "execution_count": 77,
   "outputs": [
    {
     "data": {
      "text/plain": "10"
     },
     "execution_count": 77,
     "metadata": {},
     "output_type": "execute_result"
    }
   ],
   "source": [
    "c = Counter(10)\n",
    "c = Counter.__call__(10)\n",
    "c = type(Counter).__call__(Counter, 10)\n",
    "c.count"
   ],
   "metadata": {
    "collapsed": false,
    "pycharm": {
     "name": "#%%\n"
    }
   }
  },
  {
   "cell_type": "code",
   "execution_count": 78,
   "outputs": [],
   "source": [
    "import collections\n",
    "class Silly:\n",
    "    def __init__(self):\n",
    "        self.__dict__['data'] = collections.defaultdict(lambda: 42)\n",
    "\n",
    "    # calls this if there is no \"item\" in dict\n",
    "    def __getattr__(self, item):\n",
    "        return  self.data[item] #this works!\n",
    "\n",
    "    def __setattr__(self, key, value):\n",
    "        value = 42\n",
    "        self.__dict__[key] = value\n",
    "\n",
    "    def __delattr__(self, item):\n",
    "        self.data.pop(item, None)\n",
    "\n",
    "s = Silly()\n",
    "assert s.foo == 42\n",
    "s.foo = 92\n",
    "assert s.foo == 42\n",
    "del s.foo\n"
   ],
   "metadata": {
    "collapsed": false,
    "pycharm": {
     "name": "#%%\n"
    }
   }
  },
  {
   "cell_type": "code",
   "execution_count": 80,
   "outputs": [],
   "source": [
    "class EvenMoreSilly:\n",
    "    def __init__(self):\n",
    "        __dict__ = super().__getattribute__(\"__dict__\")\n",
    "        __dict__[\"data\"] = collections.defaultdict(lambda: 42)\n",
    "\n",
    "    def __getattribute__(self, item):\n",
    "        data = super().__getattribute__(\"data\")\n",
    "        return data[item]\n",
    "\n",
    "    def __setattr__(self, key, value):\n",
    "        value = 42\n",
    "        data = super().__getattribute__(\"data\")\n",
    "        data[key] = value\n",
    "\n",
    "\n",
    "s = EvenMoreSilly()\n",
    "assert s.foo == 42\n",
    "s.foo = 92\n",
    "assert s.foo == 42\n"
   ],
   "metadata": {
    "collapsed": false,
    "pycharm": {
     "name": "#%%\n"
    }
   }
  },
  {
   "cell_type": "code",
   "execution_count": null,
   "outputs": [],
   "source": [
    "\n"
   ],
   "metadata": {
    "collapsed": false,
    "pycharm": {
     "name": "#%%\n"
    }
   }
  }
 ],
 "metadata": {
  "kernelspec": {
   "display_name": "Python 3",
   "language": "python",
   "name": "python3"
  },
  "language_info": {
   "codemirror_mode": {
    "name": "ipython",
    "version": 2
   },
   "file_extension": ".py",
   "mimetype": "text/x-python",
   "name": "python",
   "nbconvert_exporter": "python",
   "pygments_lexer": "ipython2",
   "version": "2.7.6"
  }
 },
 "nbformat": 4,
 "nbformat_minor": 0
}